{
  "cells": [
    {
      "cell_type": "code",
      "execution_count": 1,
      "metadata": {
        "_cell_guid": "b1076dfc-b9ad-4769-8c92-a6c4dae69d19",
        "_uuid": "8f2839f25d086af736a60e9eeb907d3b93b6e0e5",
        "execution": {
          "iopub.execute_input": "2024-05-04T11:17:48.562684Z",
          "iopub.status.busy": "2024-05-04T11:17:48.562257Z",
          "iopub.status.idle": "2024-05-04T11:17:48.569974Z",
          "shell.execute_reply": "2024-05-04T11:17:48.568669Z",
          "shell.execute_reply.started": "2024-05-04T11:17:48.562653Z"
        },
        "id": "Rio21plp7xg5",
        "trusted": true
      },
      "outputs": [],
      "source": [
        "import numpy as np # linear algebra\n",
        "import pandas as pd # data processing, CSV file I/O (e.g. pd.read_csv)\n",
        "\n",
        "import os\n",
        "for dirname, _, filenames in os.walk('/kaggle/input'):\n",
        "    for filename in filenames:\n",
        "        print(os.path.join(dirname, filename))"
      ]
    },
    {
      "cell_type": "markdown",
      "metadata": {
        "id": "66M6CCfR7xg7"
      },
      "source": [
        "# Step One: Data Preparation"
      ]
    },
    {
      "cell_type": "code",
      "execution_count": 2,
      "metadata": {
        "colab": {
          "base_uri": "https://localhost:8080/"
        },
        "execution": {
          "iopub.status.busy": "2024-05-04T11:17:48.572367Z",
          "iopub.status.idle": "2024-05-04T11:18:03.811846Z",
          "shell.execute_reply": "2024-05-04T11:18:03.810496Z",
          "shell.execute_reply.started": "2024-05-04T11:17:48.573502Z"
        },
        "id": "w7n81dOY7xg8",
        "outputId": "57c4d239-51c4-4624-e642-f87459e56f5c",
        "trusted": true
      },
      "outputs": [
        {
          "name": "stdout",
          "output_type": "stream",
          "text": [
            "Collecting datasets\n",
            "  Downloading datasets-2.19.1-py3-none-any.whl (542 kB)\n",
            "\u001b[2K     \u001b[90m━━━━━━━━━━━━━━━━━━━━━━━━━━━━━━━━━━━━━━━━\u001b[0m \u001b[32m542.0/542.0 kB\u001b[0m \u001b[31m3.4 MB/s\u001b[0m eta \u001b[36m0:00:00\u001b[0m\n",
            "\u001b[?25hRequirement already satisfied: filelock in /usr/local/lib/python3.10/dist-packages (from datasets) (3.14.0)\n",
            "Requirement already satisfied: numpy>=1.17 in /usr/local/lib/python3.10/dist-packages (from datasets) (1.25.2)\n",
            "Requirement already satisfied: pyarrow>=12.0.0 in /usr/local/lib/python3.10/dist-packages (from datasets) (14.0.2)\n",
            "Requirement already satisfied: pyarrow-hotfix in /usr/local/lib/python3.10/dist-packages (from datasets) (0.6)\n",
            "Collecting dill<0.3.9,>=0.3.0 (from datasets)\n",
            "  Downloading dill-0.3.8-py3-none-any.whl (116 kB)\n",
            "\u001b[2K     \u001b[90m━━━━━━━━━━━━━━━━━━━━━━━━━━━━━━━━━━━━━━━━\u001b[0m \u001b[32m116.3/116.3 kB\u001b[0m \u001b[31m10.5 MB/s\u001b[0m eta \u001b[36m0:00:00\u001b[0m\n",
            "\u001b[?25hRequirement already satisfied: pandas in /usr/local/lib/python3.10/dist-packages (from datasets) (2.0.3)\n",
            "Requirement already satisfied: requests>=2.19.0 in /usr/local/lib/python3.10/dist-packages (from datasets) (2.31.0)\n",
            "Requirement already satisfied: tqdm>=4.62.1 in /usr/local/lib/python3.10/dist-packages (from datasets) (4.66.4)\n",
            "Collecting xxhash (from datasets)\n",
            "  Downloading xxhash-3.4.1-cp310-cp310-manylinux_2_17_x86_64.manylinux2014_x86_64.whl (194 kB)\n",
            "\u001b[2K     \u001b[90m━━━━━━━━━━━━━━━━━━━━━━━━━━━━━━━━━━━━━━━━\u001b[0m \u001b[32m194.1/194.1 kB\u001b[0m \u001b[31m15.7 MB/s\u001b[0m eta \u001b[36m0:00:00\u001b[0m\n",
            "\u001b[?25hCollecting multiprocess (from datasets)\n",
            "  Downloading multiprocess-0.70.16-py310-none-any.whl (134 kB)\n",
            "\u001b[2K     \u001b[90m━━━━━━━━━━━━━━━━━━━━━━━━━━━━━━━━━━━━━━━━\u001b[0m \u001b[32m134.8/134.8 kB\u001b[0m \u001b[31m11.9 MB/s\u001b[0m eta \u001b[36m0:00:00\u001b[0m\n",
            "\u001b[?25hRequirement already satisfied: fsspec[http]<=2024.3.1,>=2023.1.0 in /usr/local/lib/python3.10/dist-packages (from datasets) (2023.6.0)\n",
            "Requirement already satisfied: aiohttp in /usr/local/lib/python3.10/dist-packages (from datasets) (3.9.5)\n",
            "Collecting huggingface-hub>=0.21.2 (from datasets)\n",
            "  Downloading huggingface_hub-0.23.0-py3-none-any.whl (401 kB)\n",
            "\u001b[2K     \u001b[90m━━━━━━━━━━━━━━━━━━━━━━━━━━━━━━━━━━━━━━━━\u001b[0m \u001b[32m401.2/401.2 kB\u001b[0m \u001b[31m20.2 MB/s\u001b[0m eta \u001b[36m0:00:00\u001b[0m\n",
            "\u001b[?25hRequirement already satisfied: packaging in /usr/local/lib/python3.10/dist-packages (from datasets) (24.0)\n",
            "Requirement already satisfied: pyyaml>=5.1 in /usr/local/lib/python3.10/dist-packages (from datasets) (6.0.1)\n",
            "Requirement already satisfied: aiosignal>=1.1.2 in /usr/local/lib/python3.10/dist-packages (from aiohttp->datasets) (1.3.1)\n",
            "Requirement already satisfied: attrs>=17.3.0 in /usr/local/lib/python3.10/dist-packages (from aiohttp->datasets) (23.2.0)\n",
            "Requirement already satisfied: frozenlist>=1.1.1 in /usr/local/lib/python3.10/dist-packages (from aiohttp->datasets) (1.4.1)\n",
            "Requirement already satisfied: multidict<7.0,>=4.5 in /usr/local/lib/python3.10/dist-packages (from aiohttp->datasets) (6.0.5)\n",
            "Requirement already satisfied: yarl<2.0,>=1.0 in /usr/local/lib/python3.10/dist-packages (from aiohttp->datasets) (1.9.4)\n",
            "Requirement already satisfied: async-timeout<5.0,>=4.0 in /usr/local/lib/python3.10/dist-packages (from aiohttp->datasets) (4.0.3)\n",
            "Requirement already satisfied: typing-extensions>=3.7.4.3 in /usr/local/lib/python3.10/dist-packages (from huggingface-hub>=0.21.2->datasets) (4.11.0)\n",
            "Requirement already satisfied: charset-normalizer<4,>=2 in /usr/local/lib/python3.10/dist-packages (from requests>=2.19.0->datasets) (3.3.2)\n",
            "Requirement already satisfied: idna<4,>=2.5 in /usr/local/lib/python3.10/dist-packages (from requests>=2.19.0->datasets) (3.7)\n",
            "Requirement already satisfied: urllib3<3,>=1.21.1 in /usr/local/lib/python3.10/dist-packages (from requests>=2.19.0->datasets) (2.0.7)\n",
            "Requirement already satisfied: certifi>=2017.4.17 in /usr/local/lib/python3.10/dist-packages (from requests>=2.19.0->datasets) (2024.2.2)\n",
            "Requirement already satisfied: python-dateutil>=2.8.2 in /usr/local/lib/python3.10/dist-packages (from pandas->datasets) (2.8.2)\n",
            "Requirement already satisfied: pytz>=2020.1 in /usr/local/lib/python3.10/dist-packages (from pandas->datasets) (2023.4)\n",
            "Requirement already satisfied: tzdata>=2022.1 in /usr/local/lib/python3.10/dist-packages (from pandas->datasets) (2024.1)\n",
            "Requirement already satisfied: six>=1.5 in /usr/local/lib/python3.10/dist-packages (from python-dateutil>=2.8.2->pandas->datasets) (1.16.0)\n",
            "Installing collected packages: xxhash, dill, multiprocess, huggingface-hub, datasets\n",
            "  Attempting uninstall: huggingface-hub\n",
            "    Found existing installation: huggingface-hub 0.20.3\n",
            "    Uninstalling huggingface-hub-0.20.3:\n",
            "      Successfully uninstalled huggingface-hub-0.20.3\n",
            "Successfully installed datasets-2.19.1 dill-0.3.8 huggingface-hub-0.23.0 multiprocess-0.70.16 xxhash-3.4.1\n"
          ]
        }
      ],
      "source": [
        "pip install datasets"
      ]
    },
    {
      "cell_type": "markdown",
      "metadata": {
        "id": "hzc0eKQI7xg9"
      },
      "source": [
        "## Loading the English Wikipedia dataset from Hugging Face datasets"
      ]
    },
    {
      "cell_type": "code",
      "execution_count": 3,
      "metadata": {
        "colab": {
          "base_uri": "https://localhost:8080/",
          "height": 286,
          "referenced_widgets": [
            "12a3c9f70c03433d9910c95e79aedfe9",
            "50828019e12f4d0895f0e50e1e7f6946",
            "0c59ccbc39b64188935667d4bfe6b039",
            "c594e30187404083b5bf49789bea0c18",
            "93e365fc90ec43c5a050c42491e4e6cf",
            "c0f025233e0e45549df746dd60fc5e44",
            "72670b8b3e214b92ae6a399f5fb9e782",
            "4efc1ba8ea274ff1b142ecee124706d0",
            "a243bf6bced0403e943c3a3a000bf09d",
            "ecc2a0baa1214851bec4282dcd7e4ed3",
            "e5a9cae6420443e1a08a3dfd29d7ce9a",
            "bc14992b9c3f4904be7b4d0d9bbc3711",
            "7179fdea13b14d9a9189f4d2c620eacb",
            "aabdb6f0ff464068ba93a04b9028d7a0",
            "ad40581ba64843d7a03d1e9b6ac8635d",
            "23b54dce3191413680ca18754e523c01",
            "b5d001aa92784e39af1a178f0ca72b5e",
            "b0ceaa9c2a0c4d92a3a7b5e1dbe2d126",
            "f781b719d6d646b89be238045fbda73b",
            "ac9e0e431fa94a82b33750f621619d0a",
            "4c271a1d790f4510b262e60b044629a1",
            "81719778a5794d7a8a92c7872550d3cf",
            "e3298c5f61484e78a09adeedf87f08cb",
            "bbba91c7cf554b749d3d86fe08c5b49f",
            "55d2d1ffce05426abe954c329b0b45e9",
            "d4fccf7f55fe45fb829f6beab38f1f9c",
            "f1a4913e9650449ab2a9b173476c466e",
            "adc42f0dfe094e99a197689405dbfc97",
            "ff0583d27ce747bd832be04e591baf4f",
            "c13287176dbb4816805a67b3994df3de",
            "4bc7b2993d4c43eaaf40dcb4bc89895f",
            "398e79e13179494f8728334d2b47e52c",
            "dd1a58e8658544909d8151859f7c8e64",
            "8aa4b40f4ca04a96bed93eab465ff5d9",
            "abab72c75e2749ee8c9762b6cd501b03",
            "7c6a9e48afee43c78eb9c1ac70d007d2",
            "3590cb5d13f94a8cacfdf58930c4c79e",
            "5608d1fa2fde4d309fe6153c651ffce4",
            "9bf98d2973bd4ce8b19e6d32fb284d9c",
            "afc362fdd61244c3b1d01e9609cec3dc",
            "a1254176fba74d6fb5adbf06f4d40a72",
            "e485a30a3c7b49dc9086d5b787e15405",
            "992272d3f47f488699049b5c1e187f94",
            "8732a78c7e4a4eb79b107beb463f3486",
            "fa9955a19b9d41638c314f4be91ed04b",
            "43ce5ddb07e3438eb4d5c79691b61774",
            "63e5653a19864d4f90ccf383bbfcc77f",
            "26e9ffd91ee84ca1b79862b25cc65838",
            "3a00be47c8aa46f28bc05b8849ebfefc",
            "8b59e85f0a0b4edda82e32f8d8f32f00",
            "f88471f2fd7a408a965f78fe60d11d06",
            "d5d18fae36a84519a9415f1f9acf7fd2",
            "2f268d669b1d437aae8fe713f0e40219",
            "4c15a29c40a34c94b33479fd41c9f7bc",
            "daf1154f84b1497cac56bdc9854d557f"
          ]
        },
        "execution": {
          "iopub.execute_input": "2024-05-04T19:17:54.073359Z",
          "iopub.status.busy": "2024-05-04T19:17:54.072979Z",
          "iopub.status.idle": "2024-05-04T19:17:57.907316Z",
          "shell.execute_reply": "2024-05-04T19:17:57.906191Z",
          "shell.execute_reply.started": "2024-05-04T19:17:54.073330Z"
        },
        "id": "oOK6u4LQ7xg-",
        "outputId": "bee28992-b3c5-41b3-a265-d6efd91827cf",
        "trusted": true
      },
      "outputs": [
        {
          "name": "stderr",
          "output_type": "stream",
          "text": [
            "/usr/local/lib/python3.10/dist-packages/huggingface_hub/utils/_token.py:89: UserWarning: \n",
            "The secret `HF_TOKEN` does not exist in your Colab secrets.\n",
            "To authenticate with the Hugging Face Hub, create a token in your settings tab (https://huggingface.co/settings/tokens), set it as secret in your Google Colab and restart your session.\n",
            "You will be able to reuse this secret in all of your notebooks.\n",
            "Please note that authentication is recommended but still optional to access public models or datasets.\n",
            "  warnings.warn(\n"
          ]
        },
        {
          "data": {
            "application/vnd.jupyter.widget-view+json": {
              "model_id": "12a3c9f70c03433d9910c95e79aedfe9",
              "version_major": 2,
              "version_minor": 0
            },
            "text/plain": [
              "Downloading builder script:   0%|          | 0.00/36.7k [00:00<?, ?B/s]"
            ]
          },
          "metadata": {},
          "output_type": "display_data"
        },
        {
          "data": {
            "application/vnd.jupyter.widget-view+json": {
              "model_id": "bc14992b9c3f4904be7b4d0d9bbc3711",
              "version_major": 2,
              "version_minor": 0
            },
            "text/plain": [
              "Downloading readme:   0%|          | 0.00/16.0k [00:00<?, ?B/s]"
            ]
          },
          "metadata": {},
          "output_type": "display_data"
        },
        {
          "data": {
            "application/vnd.jupyter.widget-view+json": {
              "model_id": "e3298c5f61484e78a09adeedf87f08cb",
              "version_major": 2,
              "version_minor": 0
            },
            "text/plain": [
              "Downloading data:   0%|          | 0/41 [00:00<?, ?files/s]"
            ]
          },
          "metadata": {},
          "output_type": "display_data"
        },
        {
          "data": {
            "application/vnd.jupyter.widget-view+json": {
              "model_id": "8aa4b40f4ca04a96bed93eab465ff5d9",
              "version_major": 2,
              "version_minor": 0
            },
            "text/plain": [
              "Generating train split:   0%|          | 0/6458670 [00:00<?, ? examples/s]"
            ]
          },
          "metadata": {},
          "output_type": "display_data"
        },
        {
          "data": {
            "application/vnd.jupyter.widget-view+json": {
              "model_id": "fa9955a19b9d41638c314f4be91ed04b",
              "version_major": 2,
              "version_minor": 0
            },
            "text/plain": [
              "Loading dataset shards:   0%|          | 0/41 [00:00<?, ?it/s]"
            ]
          },
          "metadata": {},
          "output_type": "display_data"
        }
      ],
      "source": [
        "from datasets import load_dataset\n",
        "\n",
        "wiki_dataset = load_dataset(\"wikipedia\", \"20220301.en\", trust_remote_code=True)"
      ]
    },
    {
      "cell_type": "markdown",
      "metadata": {
        "id": "uV-eX4L47xg-"
      },
      "source": [
        "#### Check Available Splits"
      ]
    },
    {
      "cell_type": "code",
      "execution_count": 4,
      "metadata": {
        "colab": {
          "base_uri": "https://localhost:8080/"
        },
        "execution": {
          "iopub.execute_input": "2024-05-04T18:36:28.594769Z",
          "iopub.status.busy": "2024-05-04T18:36:28.592505Z",
          "iopub.status.idle": "2024-05-04T18:36:28.605721Z",
          "shell.execute_reply": "2024-05-04T18:36:28.604422Z",
          "shell.execute_reply.started": "2024-05-04T18:36:28.594683Z"
        },
        "id": "ckk533d07xg-",
        "outputId": "a460a658-8f60-448d-b754-0784644906cb",
        "trusted": true
      },
      "outputs": [
        {
          "name": "stdout",
          "output_type": "stream",
          "text": [
            "Available splits: dict_keys(['train'])\n"
          ]
        }
      ],
      "source": [
        "print(\"Available splits:\", wiki_dataset.keys())"
      ]
    },
    {
      "cell_type": "markdown",
      "metadata": {
        "id": "bQioHOHk7xg-"
      },
      "source": [
        "#### Access the \"train\" split directly"
      ]
    },
    {
      "cell_type": "code",
      "execution_count": 5,
      "metadata": {
        "colab": {
          "base_uri": "https://localhost:8080/"
        },
        "execution": {
          "iopub.execute_input": "2024-05-04T19:18:01.314428Z",
          "iopub.status.busy": "2024-05-04T19:18:01.314006Z",
          "iopub.status.idle": "2024-05-04T19:18:01.352390Z",
          "shell.execute_reply": "2024-05-04T19:18:01.351447Z",
          "shell.execute_reply.started": "2024-05-04T19:18:01.314396Z"
        },
        "id": "aPeStnSL7xg-",
        "outputId": "4bb8f7b0-8d9b-479b-e2bc-ac6247694106",
        "trusted": true
      },
      "outputs": [
        {
          "name": "stdout",
          "output_type": "stream",
          "text": [
            "Features: {'id': Value(dtype='string', id=None), 'url': Value(dtype='string', id=None), 'title': Value(dtype='string', id=None), 'text': Value(dtype='string', id=None)}\n",
            "Number of examples: 6458670\n"
          ]
        }
      ],
      "source": [
        "train_dataset = wiki_dataset[\"train\"]\n",
        "\n",
        "# Print the dataset features (column names)\n",
        "print(\"Features:\", train_dataset.features)\n",
        "\n",
        "# Print the number of examples in the dataset\n",
        "print(\"Number of examples:\", len(train_dataset))"
      ]
    },
    {
      "cell_type": "code",
      "execution_count": 6,
      "metadata": {
        "colab": {
          "base_uri": "https://localhost:8080/",
          "height": 138
        },
        "execution": {
          "iopub.execute_input": "2024-05-04T13:37:30.729457Z",
          "iopub.status.busy": "2024-05-04T13:37:30.728984Z",
          "iopub.status.idle": "2024-05-04T13:37:30.737745Z",
          "shell.execute_reply": "2024-05-04T13:37:30.736273Z",
          "shell.execute_reply.started": "2024-05-04T13:37:30.729426Z"
        },
        "id": "bDN2J_Y57xg_",
        "outputId": "2d32328b-f9a0-4222-f9c6-e1bb2741ff02",
        "trusted": true
      },
      "outputs": [
        {
          "data": {
            "text/html": [
              "<div style=\"max-width:800px; border: 1px solid var(--colab-border-color);\"><style>\n",
              "      pre.function-repr-contents {\n",
              "        overflow-x: auto;\n",
              "        padding: 8px 12px;\n",
              "        max-height: 500px;\n",
              "      }\n",
              "\n",
              "      pre.function-repr-contents.function-repr-contents-collapsed {\n",
              "        cursor: pointer;\n",
              "        max-height: 100px;\n",
              "      }\n",
              "    </style>\n",
              "    <pre style=\"white-space: initial; background:\n",
              "         var(--colab-secondary-surface-color); padding: 8px 12px;\n",
              "         border-bottom: 1px solid var(--colab-border-color);\"><b>datasets.arrow_dataset.Dataset</b><br/>def __init__(arrow_table: Table, info: Optional[DatasetInfo]=None, split: Optional[NamedSplit]=None, indices_table: Optional[Table]=None, fingerprint: Optional[str]=None)</pre><pre class=\"function-repr-contents function-repr-contents-collapsed\" style=\"\"><a class=\"filepath\" style=\"display:none\" href=\"#\">/usr/local/lib/python3.10/dist-packages/datasets/arrow_dataset.py</a>A Dataset backed by an Arrow table.</pre>\n",
              "      <script>\n",
              "      if (google.colab.kernel.accessAllowed && google.colab.files && google.colab.files.view) {\n",
              "        for (const element of document.querySelectorAll('.filepath')) {\n",
              "          element.style.display = 'block'\n",
              "          element.onclick = (event) => {\n",
              "            event.preventDefault();\n",
              "            event.stopPropagation();\n",
              "            google.colab.files.view(element.textContent, 668);\n",
              "          };\n",
              "        }\n",
              "      }\n",
              "      for (const element of document.querySelectorAll('.function-repr-contents')) {\n",
              "        element.onclick = (event) => {\n",
              "          event.preventDefault();\n",
              "          event.stopPropagation();\n",
              "          element.classList.toggle('function-repr-contents-collapsed');\n",
              "        };\n",
              "      }\n",
              "      </script>\n",
              "      </div>"
            ],
            "text/plain": [
              "datasets.arrow_dataset.Dataset"
            ]
          },
          "execution_count": 6,
          "metadata": {},
          "output_type": "execute_result"
        }
      ],
      "source": [
        "type(train_dataset)"
      ]
    },
    {
      "cell_type": "markdown",
      "metadata": {
        "id": "HbUufDRr7xg_"
      },
      "source": [
        "#### Print the first few examples in the dataset"
      ]
    },
    {
      "cell_type": "code",
      "execution_count": 7,
      "metadata": {
        "colab": {
          "base_uri": "https://localhost:8080/"
        },
        "execution": {
          "iopub.execute_input": "2024-05-04T11:48:56.612480Z",
          "iopub.status.busy": "2024-05-04T11:48:56.612062Z",
          "iopub.status.idle": "2024-05-04T11:48:56.630036Z",
          "shell.execute_reply": "2024-05-04T11:48:56.628725Z",
          "shell.execute_reply.started": "2024-05-04T11:48:56.612448Z"
        },
        "id": "eb6CorSk7xg_",
        "outputId": "b9a99395-6f41-4497-a28c-b7bbc7649bb3",
        "trusted": true
      },
      "outputs": [
        {
          "name": "stdout",
          "output_type": "stream",
          "text": [
            "{'id': '12', 'url': 'https://en.wikipedia.org/wiki/Anarchism', 'title': 'Anarchism', 'text': 'Anarchism is a political philosophy and movement that is sceptical of authority and rejects all involuntary, coercive forms of hierarchy  Anarchism calls for the abolition of the state, which it holds to be unnecessary, undesirable, and harmful...'}\n",
            "\n",
            "\n",
            "\n",
            "{'id': '25', 'url': 'https://en.wikipedia.org/wiki/Autism', 'title': 'Autism', 'text': \"Autism is a neurodevelopmental disorder characterized by difficulties with social interaction and communication, and by restricted and repetitive behavior  Parents often notice signs during the first three years of their child's life...\"}\n",
            "\n",
            "\n",
            "\n",
            "{'id': '39', 'url': 'https://en.wikipedia.org/wiki/Albedo', 'title': 'Albedo', 'text': 'Albedo (; ) is the measure of the diffuse reflection of solar radiation out of the total solar radiation and measured on a scale from 0, corresponding to a black body that absorbs all incident radiation, to 1, corresponding to a body that reflects all incident radiation \\n\\nSurface albedo is defined as the ratio of radiosity Je to the irradiance Ee (flux per unit area) received by a surface...'}\n",
            "\n",
            "\n",
            "\n",
            "{'id': '290', 'url': 'https://en.wikipedia.org/wiki/A', 'title': 'A', 'text': 'A, or a, is the first letter and the first vowel of the modern English alphabet and the ISO basic Latin alphabet  Its name in English is a (pronounced ), plural aes...'}\n",
            "\n",
            "\n",
            "\n",
            "{'id': '303', 'url': 'https://en.wikipedia.org/wiki/Alabama', 'title': 'Alabama', 'text': 'Alabama () is a state in the Southeastern region of the United States, bordered by Tennessee to the north; Georgia to the east; Florida and the Gulf of Mexico to the south; and Mississippi to the west  Alabama is the 30th largest by area and the 24th-most populous of the U...'}\n",
            "\n",
            "\n",
            "\n"
          ]
        }
      ],
      "source": [
        "for example_idx in range(5):\n",
        "    example = train_dataset[example_idx]\n",
        "\n",
        "    print({\n",
        "        \"id\": example[\"id\"],\n",
        "        \"url\": example[\"url\"],\n",
        "        \"title\": example[\"title\"],\n",
        "        \"text\": \" \".join(example[\"text\"].split(\".\")[:2]) + \"...\"  # Extract first 1 to 2 sentences\n",
        "    })\n",
        "    print(\"\\n\\n\")"
      ]
    },
    {
      "cell_type": "markdown",
      "metadata": {
        "id": "-a-KyjBX7xhA"
      },
      "source": [
        "## Train a new tokenizer specifically for the Wikipedia corpus."
      ]
    },
    {
      "cell_type": "code",
      "execution_count": 8,
      "metadata": {
        "colab": {
          "base_uri": "https://localhost:8080/"
        },
        "id": "JL8L-WTZ7xhA",
        "outputId": "3802ecad-6827-47a1-d8ee-227b2896c696",
        "trusted": true
      },
      "outputs": [
        {
          "name": "stdout",
          "output_type": "stream",
          "text": [
            "Requirement already satisfied: tokenizers in /usr/local/lib/python3.10/dist-packages (0.19.1)\n",
            "Requirement already satisfied: huggingface-hub<1.0,>=0.16.4 in /usr/local/lib/python3.10/dist-packages (from tokenizers) (0.23.0)\n",
            "Requirement already satisfied: filelock in /usr/local/lib/python3.10/dist-packages (from huggingface-hub<1.0,>=0.16.4->tokenizers) (3.14.0)\n",
            "Requirement already satisfied: fsspec>=2023.5.0 in /usr/local/lib/python3.10/dist-packages (from huggingface-hub<1.0,>=0.16.4->tokenizers) (2023.6.0)\n",
            "Requirement already satisfied: packaging>=20.9 in /usr/local/lib/python3.10/dist-packages (from huggingface-hub<1.0,>=0.16.4->tokenizers) (24.0)\n",
            "Requirement already satisfied: pyyaml>=5.1 in /usr/local/lib/python3.10/dist-packages (from huggingface-hub<1.0,>=0.16.4->tokenizers) (6.0.1)\n",
            "Requirement already satisfied: requests in /usr/local/lib/python3.10/dist-packages (from huggingface-hub<1.0,>=0.16.4->tokenizers) (2.31.0)\n",
            "Requirement already satisfied: tqdm>=4.42.1 in /usr/local/lib/python3.10/dist-packages (from huggingface-hub<1.0,>=0.16.4->tokenizers) (4.66.4)\n",
            "Requirement already satisfied: typing-extensions>=3.7.4.3 in /usr/local/lib/python3.10/dist-packages (from huggingface-hub<1.0,>=0.16.4->tokenizers) (4.11.0)\n",
            "Requirement already satisfied: charset-normalizer<4,>=2 in /usr/local/lib/python3.10/dist-packages (from requests->huggingface-hub<1.0,>=0.16.4->tokenizers) (3.3.2)\n",
            "Requirement already satisfied: idna<4,>=2.5 in /usr/local/lib/python3.10/dist-packages (from requests->huggingface-hub<1.0,>=0.16.4->tokenizers) (3.7)\n",
            "Requirement already satisfied: urllib3<3,>=1.21.1 in /usr/local/lib/python3.10/dist-packages (from requests->huggingface-hub<1.0,>=0.16.4->tokenizers) (2.0.7)\n",
            "Requirement already satisfied: certifi>=2017.4.17 in /usr/local/lib/python3.10/dist-packages (from requests->huggingface-hub<1.0,>=0.16.4->tokenizers) (2024.2.2)\n"
          ]
        }
      ],
      "source": [
        "pip install tokenizers"
      ]
    },
    {
      "cell_type": "code",
      "execution_count": 9,
      "metadata": {
        "colab": {
          "base_uri": "https://localhost:8080/"
        },
        "execution": {
          "iopub.execute_input": "2024-05-04T19:18:06.656495Z",
          "iopub.status.busy": "2024-05-04T19:18:06.655843Z",
          "iopub.status.idle": "2024-05-04T19:22:55.212444Z",
          "shell.execute_reply": "2024-05-04T19:22:55.211047Z",
          "shell.execute_reply.started": "2024-05-04T19:18:06.656462Z"
        },
        "id": "l_vS3xi67xhA",
        "outputId": "f139b632-c504-4e40-bc95-24bf2b1a5b3f",
        "trusted": true
      },
      "outputs": [
        {
          "name": "stderr",
          "output_type": "stream",
          "text": [
            "Training tokenizer: 100%|██████████| 50000/50000 [02:14<00:00, 372.69it/s]\n"
          ]
        }
      ],
      "source": [
        "from tokenizers import Tokenizer, models, trainers, pre_tokenizers, decoders\n",
        "from tqdm import tqdm\n",
        "\n",
        "# Define tokenizer training parameters\n",
        "vocab_size = 16000\n",
        "max_token_length = 512\n",
        "special_tokens = [\"[PAD]\", \"[UNK]\", \"[CLS]\", \"[SEP]\", \"[MASK]\"]\n",
        "\n",
        "# Initialize tokenizer\n",
        "tokenizer = Tokenizer(models.BPE())\n",
        "\n",
        "# Customize tokenizer settings\n",
        "tokenizer.pre_tokenizer = pre_tokenizers.ByteLevel()\n",
        "tokenizer.decoder = decoders.ByteLevel()\n",
        "tokenizer.add_special_tokens(special_tokens)\n",
        "\n",
        "# Train tokenizer\n",
        "trainer = trainers.BpeTrainer(\n",
        "    vocab_size=vocab_size,\n",
        "    special_tokens=special_tokens,\n",
        "    min_frequency=2,\n",
        "    show_progress=True,  # Enable the trainer's built-in progress bar\n",
        "    max_token_length=max_token_length\n",
        ")\n",
        "\n",
        "# Iterate over the first 50,000 examples in the dataset and extract text\n",
        "texts = []\n",
        "for i in range(50000):\n",
        "    texts.append(train_dataset[i][\"text\"])\n",
        "\n",
        "\n",
        "# Define a custom progress bar\n",
        "with tqdm(total=len(texts), desc='Training tokenizer') as pbar:\n",
        "    # Train tokenizer on the extracted texts\n",
        "    tokenizer.train_from_iterator(texts, trainer=trainer)\n",
        "\n",
        "    # Update tqdm progress bar\n",
        "    pbar.update(len(texts))\n",
        "\n",
        "# Save trained tokenizer\n",
        "tokenizer.save(\"wikipedia_tokenizer.json\")\n"
      ]
    },
    {
      "cell_type": "markdown",
      "metadata": {
        "id": "LSYoOdlj7xhA"
      },
      "source": [
        "#### Tokenize a sample text"
      ]
    },
    {
      "cell_type": "code",
      "execution_count": 10,
      "metadata": {
        "colab": {
          "base_uri": "https://localhost:8080/"
        },
        "execution": {
          "iopub.execute_input": "2024-05-04T19:23:45.565356Z",
          "iopub.status.busy": "2024-05-04T19:23:45.564900Z",
          "iopub.status.idle": "2024-05-04T19:23:45.574252Z",
          "shell.execute_reply": "2024-05-04T19:23:45.572978Z",
          "shell.execute_reply.started": "2024-05-04T19:23:45.565319Z"
        },
        "id": "H3ThYxBT7xhA",
        "outputId": "e548781f-3acb-4a67-b9a2-c212103a23d5",
        "trusted": true
      },
      "outputs": [
        {
          "name": "stdout",
          "output_type": "stream",
          "text": [
            "Token: ĠThis, Token ID: 735\n",
            "Token: Ġis, Token ID: 289\n",
            "Token: Ġa, Token ID: 215\n",
            "Token: Ġsample, Token ID: 8434\n",
            "Token: Ġtext, Token ID: 2578\n",
            "Token: Ġfor, Token ID: 291\n",
            "Token: Ġto, Token ID: 248\n",
            "Token: ken, Token ID: 4590\n",
            "Token: ization, Token ID: 1266\n",
            "Token: ., Token ID: 18\n",
            "\n",
            "Tokenization visualization:\n",
            "['ĠThis', 'Ġis', 'Ġa', 'Ġsample', 'Ġtext', 'Ġfor', 'Ġto', 'ken', 'ization', '.']\n",
            "[735, 289, 215, 8434, 2578, 291, 248, 4590, 1266, 18]\n"
          ]
        }
      ],
      "source": [
        "sample_text = \"This is a sample text for tokenization.\"\n",
        "\n",
        "encoded = tokenizer.encode(sample_text)\n",
        "\n",
        "# Get the tokens\n",
        "tokens = encoded.tokens\n",
        "\n",
        "# Get the token IDs\n",
        "ids = encoded.ids\n",
        "\n",
        "# Print tokens and corresponding token IDs\n",
        "for token, token_id in zip(tokens, ids):\n",
        "    print(f\"Token: {token}, Token ID: {token_id}\")\n",
        "\n",
        "# Visualize the tokenization\n",
        "print(\"\\nTokenization visualization:\")\n",
        "print(encoded.tokens)\n",
        "print(encoded.ids)\n"
      ]
    },
    {
      "cell_type": "code",
      "execution_count": 11,
      "metadata": {
        "colab": {
          "base_uri": "https://localhost:8080/"
        },
        "execution": {
          "iopub.execute_input": "2024-05-04T16:49:27.951108Z",
          "iopub.status.busy": "2024-05-04T16:49:27.948410Z",
          "iopub.status.idle": "2024-05-04T16:49:27.993734Z",
          "shell.execute_reply": "2024-05-04T16:49:27.992611Z",
          "shell.execute_reply.started": "2024-05-04T16:49:27.951070Z"
        },
        "id": "tHmCr9e17xhB",
        "outputId": "ac27024e-14f5-4762-d516-6bdeacd2ec13",
        "trusted": true
      },
      "outputs": [
        {
          "name": "stdout",
          "output_type": "stream",
          "text": [
            "Total number of words in the tokenizer: 16000\n"
          ]
        }
      ],
      "source": [
        "vocabulary = tokenizer.get_vocab()\n",
        "\n",
        "num_words = len(vocabulary)\n",
        "\n",
        "print(\"Total number of words in the tokenizer:\", num_words)"
      ]
    },
    {
      "cell_type": "markdown",
      "metadata": {
        "id": "AlXTyZ3t7xhB"
      },
      "source": [
        "When training a tokenizer with a specified vocabulary size (vocab_size).\n",
        "\n",
        "For many tokenization algorithms like Byte Pair Encoding (BPE), once the vocabulary size reaches the specified limit, the tokenizer typically stops adding new tokens and the training process concludes."
      ]
    },
    {
      "cell_type": "markdown",
      "metadata": {
        "id": "uTUwD62y7xhB"
      },
      "source": [
        "## Define a data collator for MLM tasks"
      ]
    },
    {
      "cell_type": "markdown",
      "metadata": {
        "id": "AxXjYAmp7xhB"
      },
      "source": [
        "# Step 2: Define and Prepare the BERT Model"
      ]
    },
    {
      "cell_type": "code",
      "execution_count": 12,
      "metadata": {
        "execution": {
          "iopub.execute_input": "2024-05-04T19:26:13.070242Z",
          "iopub.status.busy": "2024-05-04T19:26:13.069787Z",
          "iopub.status.idle": "2024-05-04T19:26:13.087189Z",
          "shell.execute_reply": "2024-05-04T19:26:13.085994Z",
          "shell.execute_reply.started": "2024-05-04T19:26:13.070211Z"
        },
        "id": "uDYypD367xhC",
        "trusted": true
      },
      "outputs": [],
      "source": [
        "import random\n",
        "\n",
        "class CustomDataCollatorForLanguageModeling:\n",
        "    def __init__(self, tokenizer, mlm_probability=0.2):\n",
        "        self.tokenizer = tokenizer\n",
        "        self.mlm_probability = mlm_probability\n",
        "\n",
        "    def __call__(self, examples):\n",
        "        batch_inputs = []\n",
        "        batch_labels = []\n",
        "\n",
        "        for example in examples:\n",
        "            encoded = self.tokenizer.encode(example['text'])\n",
        "            inputs = encoded.ids\n",
        "            labels = inputs[:]\n",
        "\n",
        "\n",
        "            # Apply masking with MLM probability\n",
        "            for i, token_id in enumerate(inputs):\n",
        "                # Skip special tokens [CLS], [SEP], [PAD]\n",
        "                if token_id in [self.tokenizer.token_to_id(\"[CLS]\"),\n",
        "                                self.tokenizer.token_to_id(\"[SEP]\"),\n",
        "                                self.tokenizer.token_to_id(\"[PAD]\")]:\n",
        "                    continue\n",
        "\n",
        "                # Apply masking with MLM probability\n",
        "                if random.random() < self.mlm_probability:\n",
        "                    # 80% of the time, replace the token with [MASK]\n",
        "                    if random.random() < 0.8:\n",
        "                        inputs[i] = self.tokenizer.token_to_id(\"[MASK]\")\n",
        "                    # 10% of the time, keep the token unchanged\n",
        "                    elif random.random() < 0.5:\n",
        "                        pass  # Do nothing\n",
        "                    # 10% of the time, replace the token with a random token\n",
        "                    else:\n",
        "                        inputs[i] = random.choice(range(self.tokenizer.get_vocab_size()))\n",
        "\n",
        "                    # Record the original token in the labels for computing loss\n",
        "                    labels[i] = token_id\n",
        "\n",
        "            # Pad sequences to the maximum length (512)\n",
        "            while len(inputs) < 512:\n",
        "                inputs.append(self.tokenizer.token_to_id(\"[PAD]\"))\n",
        "                labels.append(self.tokenizer.token_to_id(\"[PAD]\"))\n",
        "\n",
        "            # Truncate sequences longer than 512\n",
        "            inputs = inputs[:512]\n",
        "            labels = labels[:512]\n",
        "\n",
        "            batch_inputs.append(inputs)\n",
        "            batch_labels.append(labels)\n",
        "\n",
        "        return {\n",
        "            \"input_ids\": batch_inputs,\n",
        "            \"labels\": batch_labels\n",
        "        }\n"
      ]
    },
    {
      "cell_type": "code",
      "execution_count": 13,
      "metadata": {
        "colab": {
          "base_uri": "https://localhost:8080/"
        },
        "execution": {
          "iopub.execute_input": "2024-05-04T19:23:58.802671Z",
          "iopub.status.busy": "2024-05-04T19:23:58.802225Z",
          "iopub.status.idle": "2024-05-04T19:23:59.261227Z",
          "shell.execute_reply": "2024-05-04T19:23:59.260087Z",
          "shell.execute_reply.started": "2024-05-04T19:23:58.802638Z"
        },
        "id": "N65G0HX57xhC",
        "outputId": "8863d754-62db-4868-d328-84f20d10ae6a",
        "trusted": true
      },
      "outputs": [
        {
          "name": "stdout",
          "output_type": "stream",
          "text": [
            "BertForMaskedLM(\n",
            "  (bert): BertModel(\n",
            "    (embeddings): BertEmbeddings(\n",
            "      (word_embeddings): Embedding(16000, 256, padding_idx=0)\n",
            "      (position_embeddings): Embedding(512, 256)\n",
            "      (token_type_embeddings): Embedding(2, 256)\n",
            "      (LayerNorm): LayerNorm((256,), eps=1e-12, elementwise_affine=True)\n",
            "      (dropout): Dropout(p=0.1, inplace=False)\n",
            "    )\n",
            "    (encoder): BertEncoder(\n",
            "      (layer): ModuleList(\n",
            "        (0-7): 8 x BertLayer(\n",
            "          (attention): BertAttention(\n",
            "            (self): BertSelfAttention(\n",
            "              (query): Linear(in_features=256, out_features=256, bias=True)\n",
            "              (key): Linear(in_features=256, out_features=256, bias=True)\n",
            "              (value): Linear(in_features=256, out_features=256, bias=True)\n",
            "              (dropout): Dropout(p=0.1, inplace=False)\n",
            "            )\n",
            "            (output): BertSelfOutput(\n",
            "              (dense): Linear(in_features=256, out_features=256, bias=True)\n",
            "              (LayerNorm): LayerNorm((256,), eps=1e-12, elementwise_affine=True)\n",
            "              (dropout): Dropout(p=0.1, inplace=False)\n",
            "            )\n",
            "          )\n",
            "          (intermediate): BertIntermediate(\n",
            "            (dense): Linear(in_features=256, out_features=3072, bias=True)\n",
            "            (intermediate_act_fn): GELUActivation()\n",
            "          )\n",
            "          (output): BertOutput(\n",
            "            (dense): Linear(in_features=3072, out_features=256, bias=True)\n",
            "            (LayerNorm): LayerNorm((256,), eps=1e-12, elementwise_affine=True)\n",
            "            (dropout): Dropout(p=0.1, inplace=False)\n",
            "          )\n",
            "        )\n",
            "      )\n",
            "    )\n",
            "  )\n",
            "  (cls): BertOnlyMLMHead(\n",
            "    (predictions): BertLMPredictionHead(\n",
            "      (transform): BertPredictionHeadTransform(\n",
            "        (dense): Linear(in_features=256, out_features=256, bias=True)\n",
            "        (transform_act_fn): GELUActivation()\n",
            "        (LayerNorm): LayerNorm((256,), eps=1e-12, elementwise_affine=True)\n",
            "      )\n",
            "      (decoder): Linear(in_features=256, out_features=16000, bias=True)\n",
            "    )\n",
            "  )\n",
            ")\n"
          ]
        }
      ],
      "source": [
        "from transformers import BertConfig, BertForMaskedLM\n",
        "\n",
        "# Define the BERT configuration\n",
        "config = BertConfig(\n",
        "    vocab_size=vocab_size,  # Specify the vocabulary size\n",
        "    num_hidden_layers=8,    # Number of transformer layers\n",
        "    hidden_size=256,        # Size of the hidden layers\n",
        "    num_attention_heads=4,  # Number of attention heads\n",
        "    max_position_embeddings=max_token_length,  # Maximum input sequence length\n",
        ")\n",
        "\n",
        "# Initialize the BERT model with masked language modeling head\n",
        "model = BertForMaskedLM(config=config)\n",
        "\n",
        "batch_size = 32\n",
        "learning_rate = 1e-4\n",
        "\n",
        "# Print the model architecture\n",
        "print(model)\n"
      ]
    },
    {
      "cell_type": "markdown",
      "metadata": {
        "id": "2_V9pjIg7xhC"
      },
      "source": [
        "# Step 3: Overfitting on a Subset of The Data"
      ]
    },
    {
      "cell_type": "code",
      "execution_count": 14,
      "metadata": {
        "colab": {
          "base_uri": "https://localhost:8080/"
        },
        "execution": {
          "iopub.execute_input": "2024-05-04T19:26:18.909611Z",
          "iopub.status.busy": "2024-05-04T19:26:18.909215Z",
          "iopub.status.idle": "2024-05-04T19:26:18.970166Z",
          "shell.execute_reply": "2024-05-04T19:26:18.968803Z",
          "shell.execute_reply.started": "2024-05-04T19:26:18.909582Z"
        },
        "id": "yLlJGFoF7xhC",
        "outputId": "e6adc9b4-860f-47e5-e00b-7d02d33495df",
        "trusted": true
      },
      "outputs": [
        {
          "name": "stdout",
          "output_type": "stream",
          "text": [
            "    id                                      url      title  \\\n",
            "0   12  https://en.wikipedia.org/wiki/Anarchism  Anarchism   \n",
            "1   25     https://en.wikipedia.org/wiki/Autism     Autism   \n",
            "2   39     https://en.wikipedia.org/wiki/Albedo     Albedo   \n",
            "3  290          https://en.wikipedia.org/wiki/A          A   \n",
            "4  303    https://en.wikipedia.org/wiki/Alabama    Alabama   \n",
            "\n",
            "                                                text  \n",
            "0  Anarchism is a political philosophy and moveme...  \n",
            "1  Autism is a neurodevelopmental disorder charac...  \n",
            "2  Albedo (; ) is the measure of the diffuse refl...  \n",
            "3  A, or a, is the first letter and the first vow...  \n",
            "4  Alabama () is a state in the Southeastern regi...  \n"
          ]
        }
      ],
      "source": [
        "import pandas as pd\n",
        "\n",
        "# Initialize an empty list to store the data\n",
        "data = []\n",
        "\n",
        "# Iterate over the first 1000 examples in the dataset\n",
        "for example_idx in range(100):\n",
        "    example = train_dataset[example_idx]\n",
        "\n",
        "    # Extract relevant information and append to the data list\n",
        "    data.append({\n",
        "        \"id\": example[\"id\"],\n",
        "        \"url\": example[\"url\"],\n",
        "        \"title\": example[\"title\"],\n",
        "        \"text\": example[\"text\"], # Extract first 1 to 2 sentences\n",
        "    })\n",
        "\n",
        "# Create a DataFrame from the collected data\n",
        "df = pd.DataFrame(data)\n",
        "\n",
        "# Display the DataFrame\n",
        "print(df.head())"
      ]
    },
    {
      "cell_type": "code",
      "execution_count": 15,
      "metadata": {
        "execution": {
          "iopub.execute_input": "2024-05-04T19:26:21.967766Z",
          "iopub.status.busy": "2024-05-04T19:26:21.967346Z",
          "iopub.status.idle": "2024-05-04T19:26:21.993104Z",
          "shell.execute_reply": "2024-05-04T19:26:21.991278Z",
          "shell.execute_reply.started": "2024-05-04T19:26:21.967735Z"
        },
        "id": "9Viah8zR7xhC",
        "trusted": true
      },
      "outputs": [],
      "source": [
        "from datasets import Dataset\n",
        "from torch.utils.data import DataLoader\n",
        "\n",
        "subset_train_dataset = Dataset.from_pandas(df)\n",
        "\n",
        "# Initialize the data collator\n",
        "data_collator = CustomDataCollatorForLanguageModeling(tokenizer)\n",
        "\n",
        "# Initialize the data loader\n",
        "train_dataloader = DataLoader(\n",
        "    subset_train_dataset,\n",
        "    batch_size=batch_size,\n",
        "    collate_fn=data_collator,\n",
        ")\n"
      ]
    },
    {
      "cell_type": "code",
      "execution_count": 19,
      "metadata": {
        "colab": {
          "base_uri": "https://localhost:8080/"
        },
        "execution": {
          "iopub.execute_input": "2024-05-04T18:51:27.247610Z",
          "iopub.status.busy": "2024-05-04T18:51:27.247202Z",
          "iopub.status.idle": "2024-05-04T18:59:06.588526Z",
          "shell.execute_reply": "2024-05-04T18:59:06.587337Z",
          "shell.execute_reply.started": "2024-05-04T18:51:27.247578Z"
        },
        "id": "67opm45o7xhC",
        "outputId": "aa48039d-b89d-4860-830c-59633fd5417c",
        "trusted": true
      },
      "outputs": [
        {
          "name": "stdout",
          "output_type": "stream",
          "text": [
            "Epoch 1/100: Avg. Loss: 6.9372\n",
            "Epoch 2/100: Avg. Loss: 6.7697\n",
            "Epoch 3/100: Avg. Loss: 6.5953\n",
            "Epoch 4/100: Avg. Loss: 6.4227\n",
            "Epoch 5/100: Avg. Loss: 6.2545\n",
            "Epoch 6/100: Avg. Loss: 6.0860\n",
            "Epoch 7/100: Avg. Loss: 5.9195\n",
            "Epoch 8/100: Avg. Loss: 5.7574\n",
            "Epoch 9/100: Avg. Loss: 5.5917\n",
            "Epoch 10/100: Avg. Loss: 5.4248\n",
            "Epoch 11/100: Avg. Loss: 5.2665\n",
            "Epoch 12/100: Avg. Loss: 5.1162\n",
            "Epoch 13/100: Avg. Loss: 4.9620\n",
            "Epoch 14/100: Avg. Loss: 4.8002\n",
            "Epoch 15/100: Avg. Loss: 4.6465\n",
            "Epoch 16/100: Avg. Loss: 4.4999\n",
            "Epoch 17/100: Avg. Loss: 4.3605\n",
            "Epoch 18/100: Avg. Loss: 4.2082\n",
            "Epoch 19/100: Avg. Loss: 4.0713\n",
            "Epoch 20/100: Avg. Loss: 3.9330\n",
            "Epoch 21/100: Avg. Loss: 3.7901\n",
            "Epoch 22/100: Avg. Loss: 3.6547\n",
            "Epoch 23/100: Avg. Loss: 3.5278\n",
            "Epoch 24/100: Avg. Loss: 3.3995\n",
            "Epoch 25/100: Avg. Loss: 3.2711\n",
            "Epoch 26/100: Avg. Loss: 3.1487\n",
            "Epoch 27/100: Avg. Loss: 3.0249\n",
            "Epoch 28/100: Avg. Loss: 2.9047\n",
            "Epoch 29/100: Avg. Loss: 2.7999\n",
            "Epoch 30/100: Avg. Loss: 2.6842\n",
            "Epoch 31/100: Avg. Loss: 2.5762\n",
            "Epoch 32/100: Avg. Loss: 2.4753\n",
            "Epoch 33/100: Avg. Loss: 2.3778\n",
            "Epoch 34/100: Avg. Loss: 2.2818\n",
            "Epoch 35/100: Avg. Loss: 2.1869\n",
            "Epoch 36/100: Avg. Loss: 2.1083\n",
            "Epoch 37/100: Avg. Loss: 2.0266\n",
            "Epoch 38/100: Avg. Loss: 1.9548\n",
            "Epoch 39/100: Avg. Loss: 1.8754\n",
            "Epoch 40/100: Avg. Loss: 1.8047\n",
            "Epoch 41/100: Avg. Loss: 1.7414\n",
            "Epoch 42/100: Avg. Loss: 1.6777\n",
            "Epoch 43/100: Avg. Loss: 1.6323\n",
            "Epoch 44/100: Avg. Loss: 1.5750\n",
            "Epoch 45/100: Avg. Loss: 1.5295\n",
            "Epoch 46/100: Avg. Loss: 1.4708\n",
            "Epoch 47/100: Avg. Loss: 1.4422\n",
            "Epoch 48/100: Avg. Loss: 1.4012\n",
            "Epoch 49/100: Avg. Loss: 1.3594\n",
            "Epoch 50/100: Avg. Loss: 1.3269\n",
            "Epoch 51/100: Avg. Loss: 1.2923\n",
            "Epoch 52/100: Avg. Loss: 1.2543\n",
            "Epoch 53/100: Avg. Loss: 1.2357\n",
            "Epoch 54/100: Avg. Loss: 1.2038\n",
            "Epoch 55/100: Avg. Loss: 1.1821\n",
            "Epoch 56/100: Avg. Loss: 1.1718\n",
            "Epoch 57/100: Avg. Loss: 1.1418\n",
            "Epoch 58/100: Avg. Loss: 1.1271\n",
            "Epoch 59/100: Avg. Loss: 1.1044\n",
            "Epoch 60/100: Avg. Loss: 1.0886\n",
            "Epoch 61/100: Avg. Loss: 1.0619\n",
            "Epoch 62/100: Avg. Loss: 1.0586\n",
            "Epoch 63/100: Avg. Loss: 1.0464\n",
            "Epoch 64/100: Avg. Loss: 1.0268\n",
            "Epoch 65/100: Avg. Loss: 1.0170\n",
            "Epoch 66/100: Avg. Loss: 1.0027\n",
            "Epoch 67/100: Avg. Loss: 0.9975\n",
            "Epoch 68/100: Avg. Loss: 0.9754\n",
            "Epoch 69/100: Avg. Loss: 0.9805\n",
            "Epoch 70/100: Avg. Loss: 0.9612\n",
            "Epoch 71/100: Avg. Loss: 0.9532\n",
            "Epoch 72/100: Avg. Loss: 0.9426\n",
            "Epoch 73/100: Avg. Loss: 0.9303\n",
            "Epoch 74/100: Avg. Loss: 0.9269\n",
            "Epoch 75/100: Avg. Loss: 0.9249\n",
            "Epoch 76/100: Avg. Loss: 0.9180\n",
            "Epoch 77/100: Avg. Loss: 0.9021\n",
            "Epoch 78/100: Avg. Loss: 0.9058\n",
            "Epoch 79/100: Avg. Loss: 0.8988\n",
            "Epoch 80/100: Avg. Loss: 0.8942\n",
            "Epoch 81/100: Avg. Loss: 0.8964\n",
            "Epoch 82/100: Avg. Loss: 0.8815\n",
            "Epoch 83/100: Avg. Loss: 0.8795\n",
            "Epoch 84/100: Avg. Loss: 0.8757\n",
            "Epoch 85/100: Avg. Loss: 0.8745\n",
            "Epoch 86/100: Avg. Loss: 0.8698\n",
            "Epoch 87/100: Avg. Loss: 0.8771\n",
            "Epoch 88/100: Avg. Loss: 0.8603\n",
            "Epoch 89/100: Avg. Loss: 0.8635\n",
            "Epoch 90/100: Avg. Loss: 0.8538\n",
            "Epoch 91/100: Avg. Loss: 0.8623\n",
            "Epoch 92/100: Avg. Loss: 0.8607\n",
            "Epoch 93/100: Avg. Loss: 0.8501\n",
            "Epoch 94/100: Avg. Loss: 0.8401\n",
            "Epoch 95/100: Avg. Loss: 0.8538\n",
            "Epoch 96/100: Avg. Loss: 0.8482\n",
            "Epoch 97/100: Avg. Loss: 0.8365\n",
            "Epoch 98/100: Avg. Loss: 0.8463\n",
            "Epoch 99/100: Avg. Loss: 0.8386\n",
            "Epoch 100/100: Avg. Loss: 0.8425\n"
          ]
        }
      ],
      "source": [
        "import torch\n",
        "from torch.utils.data import DataLoader\n",
        "from transformers import AdamW, get_linear_schedule_with_warmup\n",
        "\n",
        "num_epochs=100\n",
        "\n",
        "# Optimizer and scheduler\n",
        "optimizer = AdamW(model.parameters(), lr=learning_rate)\n",
        "scheduler = get_linear_schedule_with_warmup(optimizer, num_warmup_steps=0, num_training_steps=len(train_dataloader) * num_epochs)\n",
        "\n",
        "# Training loop\n",
        "for epoch in range(num_epochs):\n",
        "    model.train()\n",
        "    total_loss = 0.0\n",
        "    for batch in train_dataloader:\n",
        "        inputs = batch[\"input_ids\"]\n",
        "        labels = batch[\"labels\"]\n",
        "\n",
        "        optimizer.zero_grad()\n",
        "\n",
        "        outputs = model(input_ids=torch.tensor(inputs), labels=torch.tensor(labels))\n",
        "        loss = outputs.loss\n",
        "        loss.backward()\n",
        "\n",
        "        optimizer.step()\n",
        "        scheduler.step()\n",
        "\n",
        "        total_loss += loss.item()\n",
        "\n",
        "    avg_loss = total_loss / len(train_dataloader)\n",
        "\n",
        "    print(f\"Epoch {epoch+1}/{num_epochs}: Avg. Loss: {avg_loss:.4f}\")"
      ]
    },
    {
      "cell_type": "markdown",
      "metadata": {
        "id": "nSMg1oIm7xhD"
      },
      "source": [
        "#### Evaluation on the training subset"
      ]
    },
    {
      "cell_type": "code",
      "execution_count": 20,
      "metadata": {
        "colab": {
          "base_uri": "https://localhost:8080/"
        },
        "execution": {
          "iopub.execute_input": "2024-05-04T16:59:36.191090Z",
          "iopub.status.busy": "2024-05-04T16:59:36.190639Z",
          "iopub.status.idle": "2024-05-04T17:00:00.664007Z",
          "shell.execute_reply": "2024-05-04T17:00:00.662658Z",
          "shell.execute_reply.started": "2024-05-04T16:59:36.191055Z"
        },
        "id": "tJ7g92aU7xhD",
        "outputId": "453ff54e-7835-4e65-9f85-c9d5a209869b",
        "trusted": true
      },
      "outputs": [
        {
          "name": "stdout",
          "output_type": "stream",
          "text": [
            "Avg. Evaluation Loss on Training Subset: 0.8041\n"
          ]
        }
      ],
      "source": [
        "model.eval()\n",
        "eval_loss = 0.0\n",
        "for batch in train_dataloader:\n",
        "    inputs = batch[\"input_ids\"]\n",
        "    labels = batch[\"labels\"]\n",
        "\n",
        "    with torch.no_grad():\n",
        "        outputs = model(input_ids=torch.tensor(inputs), labels=torch.tensor(labels))\n",
        "        eval_loss += outputs.loss.item()\n",
        "\n",
        "avg_eval_loss = eval_loss / len(train_dataloader)\n",
        "print(f\"Avg. Evaluation Loss on Training Subset: {avg_eval_loss:.4f}\")"
      ]
    },
    {
      "cell_type": "markdown",
      "metadata": {
        "id": "Z-T4WOe-7xhD"
      },
      "source": [
        "# Step 4: Training on the Entire Dataset"
      ]
    },
    {
      "cell_type": "markdown",
      "metadata": {
        "id": "tC3eC3mx7xhD"
      },
      "source": [
        "#### Train on the first 100000 samples"
      ]
    },
    {
      "cell_type": "code",
      "execution_count": 21,
      "metadata": {
        "colab": {
          "base_uri": "https://localhost:8080/"
        },
        "execution": {
          "iopub.execute_input": "2024-05-04T19:26:36.938425Z",
          "iopub.status.busy": "2024-05-04T19:26:36.937420Z",
          "iopub.status.idle": "2024-05-04T19:26:37.306858Z",
          "shell.execute_reply": "2024-05-04T19:26:37.305725Z",
          "shell.execute_reply.started": "2024-05-04T19:26:36.938383Z"
        },
        "id": "jEFMbGLy7xhD",
        "outputId": "2a119eba-7aaf-440f-c0f4-71dc946e9341",
        "trusted": true
      },
      "outputs": [
        {
          "name": "stdout",
          "output_type": "stream",
          "text": [
            "    id                                      url      title  \\\n",
            "0   12  https://en.wikipedia.org/wiki/Anarchism  Anarchism   \n",
            "1   25     https://en.wikipedia.org/wiki/Autism     Autism   \n",
            "2   39     https://en.wikipedia.org/wiki/Albedo     Albedo   \n",
            "3  290          https://en.wikipedia.org/wiki/A          A   \n",
            "4  303    https://en.wikipedia.org/wiki/Alabama    Alabama   \n",
            "\n",
            "                                                text  \n",
            "0  Anarchism is a political philosophy and moveme...  \n",
            "1  Autism is a neurodevelopmental disorder charac...  \n",
            "2  Albedo (; ) is the measure of the diffuse refl...  \n",
            "3  A, or a, is the first letter and the first vow...  \n",
            "4  Alabama () is a state in the Southeastern regi...  \n"
          ]
        }
      ],
      "source": [
        "import pandas as pd\n",
        "\n",
        "# Initialize an empty list to store the data\n",
        "data = []\n",
        "\n",
        "for example_idx in range(100000):\n",
        "    example = train_dataset[example_idx]\n",
        "\n",
        "    # Extract relevant information and append to the data list\n",
        "    data.append({\n",
        "        \"id\": example[\"id\"],\n",
        "        \"url\": example[\"url\"],\n",
        "        \"title\": example[\"title\"],\n",
        "        \"text\": example[\"text\"]\n",
        "    })\n",
        "\n",
        "# Create a DataFrame from the collected data\n",
        "df = pd.DataFrame(data)\n",
        "\n",
        "# Display the DataFrame\n",
        "print(df.head())"
      ]
    },
    {
      "cell_type": "code",
      "execution_count": 22,
      "metadata": {
        "execution": {
          "iopub.execute_input": "2024-05-04T19:26:39.349182Z",
          "iopub.status.busy": "2024-05-04T19:26:39.348722Z",
          "iopub.status.idle": "2024-05-04T19:26:39.375185Z",
          "shell.execute_reply": "2024-05-04T19:26:39.374003Z",
          "shell.execute_reply.started": "2024-05-04T19:26:39.349148Z"
        },
        "id": "LXMCQZk77xhE",
        "trusted": true
      },
      "outputs": [],
      "source": [
        "from datasets import Dataset\n",
        "from torch.utils.data import DataLoader\n",
        "\n",
        "trainn_dataset = Dataset.from_pandas(df)\n",
        "\n",
        "# Initialize the data collator\n",
        "train_data_collator = CustomDataCollatorForLanguageModeling(tokenizer)\n",
        "\n",
        "# Initialize the data loader\n",
        "train_dataloader = DataLoader(\n",
        "    trainn_dataset,\n",
        "    batch_size=batch_size,\n",
        "    collate_fn=train_data_collator,\n",
        ")"
      ]
    },
    {
      "cell_type": "markdown",
      "metadata": {
        "id": "mbjvJF187xhE"
      },
      "source": [
        "#### Validation set containing 5000 samples"
      ]
    },
    {
      "cell_type": "code",
      "execution_count": 23,
      "metadata": {
        "colab": {
          "base_uri": "https://localhost:8080/"
        },
        "execution": {
          "iopub.execute_input": "2024-05-04T19:26:44.575270Z",
          "iopub.status.busy": "2024-05-04T19:26:44.574826Z",
          "iopub.status.idle": "2024-05-04T19:26:44.647327Z",
          "shell.execute_reply": "2024-05-04T19:26:44.646114Z",
          "shell.execute_reply.started": "2024-05-04T19:26:44.575238Z"
        },
        "id": "WPjmJDh87xhE",
        "outputId": "8eae93a6-0064-430c-a2b0-9b154252f3cf",
        "trusted": true
      },
      "outputs": [
        {
          "name": "stdout",
          "output_type": "stream",
          "text": [
            "       id                                                url  \\\n",
            "0  105190  https://en.wikipedia.org/wiki/Double%20Springs...   \n",
            "1  105191    https://en.wikipedia.org/wiki/Lynn%2C%20Alabama   \n",
            "2  105192  https://en.wikipedia.org/wiki/Waterford%20%28d...   \n",
            "3  105193  https://en.wikipedia.org/wiki/Natural%20Bridge...   \n",
            "4  105195               https://en.wikipedia.org/wiki/Greene   \n",
            "\n",
            "                        title  \\\n",
            "0     Double Springs, Alabama   \n",
            "1               Lynn, Alabama   \n",
            "2  Waterford (disambiguation)   \n",
            "3     Natural Bridge, Alabama   \n",
            "4                      Greene   \n",
            "\n",
            "                                                text  \n",
            "0  Double Springs is a town in Winston County, Al...  \n",
            "1  Lynn is a town in Winston County, Alabama, Uni...  \n",
            "2  Waterford is a city in County Waterford, Irela...  \n",
            "3  Natural Bridge is a town at the southwest edge...  \n",
            "4  Greene may refer to:\\n\\nPlaces\\n\\nUnited State...  \n"
          ]
        }
      ],
      "source": [
        "import pandas as pd\n",
        "\n",
        "# Initialize an empty list to store the data\n",
        "data = []\n",
        "\n",
        "for example_idx in range(10000):\n",
        "    example = train_dataset[100000 + example_idx]\n",
        "\n",
        "    # Extract relevant information and append to the data list\n",
        "    data.append({\n",
        "        \"id\": example[\"id\"],\n",
        "        \"url\": example[\"url\"],\n",
        "        \"title\": example[\"title\"],\n",
        "        \"text\": example[\"text\"]\n",
        "    })\n",
        "\n",
        "# Create a DataFrame from the collected data\n",
        "df = pd.DataFrame(data)\n",
        "\n",
        "# Display the DataFrame\n",
        "print(df.head())"
      ]
    },
    {
      "cell_type": "code",
      "execution_count": 24,
      "metadata": {
        "execution": {
          "iopub.execute_input": "2024-05-04T19:26:47.276987Z",
          "iopub.status.busy": "2024-05-04T19:26:47.276552Z",
          "iopub.status.idle": "2024-05-04T19:26:47.298628Z",
          "shell.execute_reply": "2024-05-04T19:26:47.297528Z",
          "shell.execute_reply.started": "2024-05-04T19:26:47.276948Z"
        },
        "id": "S2QBq1eM7xhF",
        "trusted": true
      },
      "outputs": [],
      "source": [
        "from datasets import Dataset\n",
        "\n",
        "val_dataset = Dataset.from_pandas(df)\n",
        "\n",
        "# Initialize the data collator\n",
        "val_data_collator = CustomDataCollatorForLanguageModeling(tokenizer)\n",
        "\n",
        "# Initialize the data loader\n",
        "val_dataloader = DataLoader(\n",
        "    val_dataset,\n",
        "    batch_size=batch_size,\n",
        "    collate_fn=val_data_collator,\n",
        ")"
      ]
    },
    {
      "cell_type": "markdown",
      "metadata": {
        "id": "IvTy4AS77xhF"
      },
      "source": [
        "#### Training Loop"
      ]
    },
    {
      "cell_type": "code",
      "execution_count": 26,
      "metadata": {
        "colab": {
          "base_uri": "https://localhost:8080/"
        },
        "execution": {
          "iopub.execute_input": "2024-05-04T19:26:49.928281Z",
          "iopub.status.busy": "2024-05-04T19:26:49.927826Z",
          "iopub.status.idle": "2024-05-04T20:17:29.523179Z",
          "shell.execute_reply": "2024-05-04T20:17:29.521994Z",
          "shell.execute_reply.started": "2024-05-04T19:26:49.928248Z"
        },
        "id": "gTo-VLt-7xhF",
        "outputId": "a40e93d5-50dc-4c52-e346-ec47413ce8c6",
        "trusted": true
      },
      "outputs": [
        {
          "name": "stdout",
          "output_type": "stream",
          "text": [
            "Epoch 1/1: Avg. Loss: 1.1513\n",
            "Avg. Validation Loss: 0.1948\n"
          ]
        }
      ],
      "source": [
        "import torch\n",
        "from transformers import BertForMaskedLM, AdamW, get_linear_schedule_with_warmup\n",
        "\n",
        "# Initialize the BERT model with the same configuration\n",
        "model = BertForMaskedLM(config=config)\n",
        "\n",
        "num_epochs = 1\n",
        "\n",
        "# Optimizer and scheduler\n",
        "optimizer = AdamW(model.parameters(), lr=learning_rate)\n",
        "scheduler = get_linear_schedule_with_warmup(optimizer, num_warmup_steps=0, num_training_steps=len(train_dataloader) * num_epochs)\n",
        "\n",
        "# Training loop\n",
        "for epoch in range(num_epochs):\n",
        "    model.train()\n",
        "    total_loss = 0.0\n",
        "    for batch in train_dataloader:\n",
        "        inputs = batch[\"input_ids\"]\n",
        "        labels = batch[\"labels\"]\n",
        "\n",
        "        optimizer.zero_grad()\n",
        "\n",
        "        outputs = model(input_ids=torch.tensor(inputs), labels=torch.tensor(labels))\n",
        "        loss = outputs.loss\n",
        "        loss.backward()\n",
        "\n",
        "        optimizer.step()\n",
        "        scheduler.step()\n",
        "\n",
        "        total_loss += loss.item()\n",
        "\n",
        "    avg_loss = total_loss / len(train_dataloader)\n",
        "\n",
        "    print(f\"Epoch {epoch+1}/{num_epochs}: Avg. Loss: {avg_loss:.4f}\")\n",
        "\n",
        "    # Validation\n",
        "    model.eval()\n",
        "    val_loss = 0.0\n",
        "    for batch in val_dataloader:\n",
        "        inputs = batch[\"input_ids\"]\n",
        "        labels = batch[\"labels\"]\n",
        "\n",
        "        with torch.no_grad():\n",
        "            outputs = model(input_ids=torch.tensor(inputs), labels=torch.tensor(labels))\n",
        "            val_loss += outputs.loss.item()\n",
        "\n",
        "    avg_val_loss = val_loss / len(val_dataloader)\n",
        "    print(f\"Avg. Validation Loss: {avg_val_loss:.4f}\")\n"
      ]
    },
    {
      "cell_type": "markdown",
      "metadata": {
        "id": "XBp9pnV47xhF"
      },
      "source": [
        "#### Save The Trained Model"
      ]
    },
    {
      "cell_type": "code",
      "execution_count": 27,
      "metadata": {
        "colab": {
          "base_uri": "https://localhost:8080/"
        },
        "execution": {
          "iopub.execute_input": "2024-05-04T20:17:38.936454Z",
          "iopub.status.busy": "2024-05-04T20:17:38.935164Z",
          "iopub.status.idle": "2024-05-04T20:17:39.070981Z",
          "shell.execute_reply": "2024-05-04T20:17:39.070078Z",
          "shell.execute_reply.started": "2024-05-04T20:17:38.936406Z"
        },
        "id": "IyH-uumB7xhK",
        "outputId": "3406faee-2261-4866-b74a-d82700cc8b0c",
        "trusted": true
      },
      "outputs": [
        {
          "name": "stdout",
          "output_type": "stream",
          "text": [
            "Trained model saved at: bert_model_trained/bert_model.pth\n"
          ]
        }
      ],
      "source": [
        "import os\n",
        "\n",
        "# Define the directory where you want to save the trained model\n",
        "output_dir = \"bert_model_trained\"\n",
        "\n",
        "# Create the directory if it doesn't exist\n",
        "if not os.path.exists(output_dir):\n",
        "    os.makedirs(output_dir)\n",
        "\n",
        "# Save the trained model to the specified directory\n",
        "model_save_path = os.path.join(output_dir, \"bert_model.pth\")\n",
        "torch.save(model.state_dict(), model_save_path)\n",
        "\n",
        "print(\"Trained model saved at:\", model_save_path)\n"
      ]
    },
    {
      "cell_type": "markdown",
      "metadata": {
        "id": "pbe6M7fc7xhK"
      },
      "source": [
        "#### Test set containing 200 samples"
      ]
    },
    {
      "cell_type": "code",
      "execution_count": 28,
      "metadata": {
        "colab": {
          "base_uri": "https://localhost:8080/"
        },
        "execution": {
          "iopub.execute_input": "2024-05-04T19:00:01.343868Z",
          "iopub.status.busy": "2024-05-04T19:00:01.343457Z",
          "iopub.status.idle": "2024-05-04T19:00:01.380297Z",
          "shell.execute_reply": "2024-05-04T19:00:01.379089Z",
          "shell.execute_reply.started": "2024-05-04T19:00:01.343838Z"
        },
        "id": "NxybQfWE7xhK",
        "outputId": "c5e21f8d-8a3f-4e29-ccd3-e4a35b5a4829",
        "trusted": true
      },
      "outputs": [
        {
          "name": "stdout",
          "output_type": "stream",
          "text": [
            "       id                                                url  \\\n",
            "0  107836  https://en.wikipedia.org/wiki/Stanton%2C%20Cal...   \n",
            "1  107837  https://en.wikipedia.org/wiki/Tustin%2C%20Cali...   \n",
            "2  107838  https://en.wikipedia.org/wiki/North%20Tustin%2...   \n",
            "3  107839  https://en.wikipedia.org/wiki/Villa%20Park%2C%...   \n",
            "4  107840  https://en.wikipedia.org/wiki/Westminster%2C%2...   \n",
            "\n",
            "                      title                                               text  \n",
            "0       Stanton, California  Stanton is a city in northern Orange County, C...  \n",
            "1        Tustin, California  Tustin is a city located in Orange County, Cal...  \n",
            "2  North Tustin, California  North Tustin is a census-designated place and ...  \n",
            "3    Villa Park, California  Villa Park is a city in Orange County, Califor...  \n",
            "4   Westminster, California  Westminster is a city in northern Orange Count...  \n"
          ]
        }
      ],
      "source": [
        "import pandas as pd\n",
        "\n",
        "# Initialize an empty list to store the data\n",
        "data = []\n",
        "\n",
        "for example_idx in range(200):\n",
        "    example = train_dataset[52000 + example_idx]\n",
        "\n",
        "    # Extract relevant information and append to the data list\n",
        "    data.append({\n",
        "        \"id\": example[\"id\"],\n",
        "        \"url\": example[\"url\"],\n",
        "        \"title\": example[\"title\"],\n",
        "        \"text\": example[\"text\"]  # Extract first 1 to 2 sentences\n",
        "    })\n",
        "\n",
        "# Create a DataFrame from the collected data\n",
        "df = pd.DataFrame(data)\n",
        "\n",
        "# Display the DataFrame\n",
        "print(df.head())"
      ]
    },
    {
      "cell_type": "code",
      "execution_count": 29,
      "metadata": {
        "execution": {
          "iopub.execute_input": "2024-05-04T19:00:06.347328Z",
          "iopub.status.busy": "2024-05-04T19:00:06.345229Z",
          "iopub.status.idle": "2024-05-04T19:00:06.367599Z",
          "shell.execute_reply": "2024-05-04T19:00:06.365463Z",
          "shell.execute_reply.started": "2024-05-04T19:00:06.347276Z"
        },
        "id": "cRQ8pM0M7xhL",
        "trusted": true
      },
      "outputs": [],
      "source": [
        "from datasets import Dataset\n",
        "\n",
        "test_dataset = Dataset.from_pandas(df)\n",
        "\n",
        "# Initialize the data collator\n",
        "test_data_collator = CustomDataCollatorForLanguageModeling(tokenizer)\n",
        "\n",
        "# Initialize the data loader\n",
        "test_dataloader = DataLoader(\n",
        "    test_dataset,\n",
        "    batch_size=batch_size,\n",
        "    collate_fn=test_data_collator,\n",
        ")"
      ]
    },
    {
      "cell_type": "markdown",
      "metadata": {
        "id": "capkXODP7xhL"
      },
      "source": [
        "#### Top-10 Token Accuracy"
      ]
    },
    {
      "cell_type": "code",
      "execution_count": 31,
      "metadata": {
        "colab": {
          "base_uri": "https://localhost:8080/"
        },
        "execution": {
          "iopub.execute_input": "2024-05-04T19:06:32.885525Z",
          "iopub.status.busy": "2024-05-04T19:06:32.884945Z",
          "iopub.status.idle": "2024-05-04T19:07:09.433276Z",
          "shell.execute_reply": "2024-05-04T19:07:09.432006Z",
          "shell.execute_reply.started": "2024-05-04T19:06:32.885488Z"
        },
        "id": "Kw3XdFIi7xhL",
        "outputId": "7d23ca9f-737b-4c77-e046-fbe37e57f903",
        "trusted": true
      },
      "outputs": [
        {
          "name": "stdout",
          "output_type": "stream",
          "text": [
            "Avg. Test Loss: 0.2298\n",
            "Top-10 Token Accuracy: 0.9867\n"
          ]
        }
      ],
      "source": [
        "import torch\n",
        "\n",
        "# Function to compute top-k token accuracy\n",
        "def compute_top_k_accuracy(predictions, labels, k=10):\n",
        "    correct_predictions = 0\n",
        "\n",
        "    # Flatten the predictions tensor along the second dimension\n",
        "    pred_flat = predictions.view(-1, predictions.size(-1))\n",
        "    total_samples = len(pred_flat)\n",
        "\n",
        "    # Get the top-k predicted tokens\n",
        "    top_k_preds = torch.flip(pred_flat.argsort(), dims=[1])[:, :k]\n",
        "\n",
        "    # Flatten the labels tensor\n",
        "    labels_flat = labels.view(-1, 1)\n",
        "\n",
        "    # Check if the true token is among the top-k predictions\n",
        "    correct_predictions = torch.sum(torch.eq(top_k_preds, labels_flat)).item()\n",
        "\n",
        "    accuracy = correct_predictions / total_samples\n",
        "    return accuracy\n",
        "\n",
        "\n",
        "# Evaluate the model on the test set with Top-10 Token Accuracy\n",
        "model.eval()\n",
        "test_loss = 0.0\n",
        "top_k_predictions = []\n",
        "all_labels = []\n",
        "\n",
        "for batch in test_dataloader:\n",
        "    inputs = batch[\"input_ids\"]\n",
        "    labels = batch[\"labels\"]\n",
        "\n",
        "    with torch.no_grad():\n",
        "        outputs = model(input_ids=torch.tensor(inputs), labels=torch.tensor(labels))\n",
        "        test_loss += outputs.loss.item()\n",
        "\n",
        "        # Get the model's predictions\n",
        "        predictions = outputs.logits\n",
        "\n",
        "        # Append the predictions to the list\n",
        "        top_k_predictions.append(predictions)\n",
        "\n",
        "        # Append the labels to the list\n",
        "        labels = torch.tensor(labels)\n",
        "        all_labels.append(labels)\n",
        "\n",
        "avg_test_loss = test_loss / len(test_dataloader)\n",
        "\n",
        "# Concatenate the lists of predictions and labels\n",
        "top_k_predictions = torch.cat(top_k_predictions, dim=0)\n",
        "all_labels = torch.cat(all_labels, dim=0)\n",
        "\n",
        "# Compute Top-10 Token Accuracy\n",
        "top_10_accuracy = compute_top_k_accuracy(top_k_predictions, all_labels)\n",
        "print(f\"Avg. Test Loss: {avg_test_loss:.4f}\")\n",
        "print(f\"Top-10 Token Accuracy: {top_10_accuracy:.4f}\")"
      ]
    },
    {
      "cell_type": "markdown",
      "metadata": {
        "id": "ADaZuLIf7xhL"
      },
      "source": [
        "# Step 5: Optimization Techniques"
      ]
    },
    {
      "cell_type": "code",
      "execution_count": 1,
      "metadata": {
        "colab": {
          "base_uri": "https://localhost:8080/",
          "height": 219
        },
        "id": "qfgjcN3U7xhM",
        "outputId": "27dcc3a2-68b9-4527-ab7b-80fdafbbaf15"
      },
      "outputs": [
        {
          "ename": "NameError",
          "evalue": "name 'config' is not defined",
          "output_type": "error",
          "traceback": [
            "\u001b[0;31m---------------------------------------------------------------------------\u001b[0m",
            "\u001b[0;31mNameError\u001b[0m                                 Traceback (most recent call last)",
            "\u001b[0;32m<ipython-input-1-9f0ebdba2342>\u001b[0m in \u001b[0;36m<cell line: 6>\u001b[0;34m()\u001b[0m\n\u001b[1;32m      4\u001b[0m \u001b[0;34m\u001b[0m\u001b[0m\n\u001b[1;32m      5\u001b[0m \u001b[0;31m# Initialize the BERT model with the same configuration\u001b[0m\u001b[0;34m\u001b[0m\u001b[0;34m\u001b[0m\u001b[0m\n\u001b[0;32m----> 6\u001b[0;31m \u001b[0mmodel\u001b[0m \u001b[0;34m=\u001b[0m \u001b[0mBertForMaskedLM\u001b[0m\u001b[0;34m(\u001b[0m\u001b[0mconfig\u001b[0m\u001b[0;34m=\u001b[0m\u001b[0mconfig\u001b[0m\u001b[0;34m)\u001b[0m\u001b[0;34m\u001b[0m\u001b[0;34m\u001b[0m\u001b[0m\n\u001b[0m\u001b[1;32m      7\u001b[0m \u001b[0;34m\u001b[0m\u001b[0m\n\u001b[1;32m      8\u001b[0m \u001b[0mnum_epochs\u001b[0m \u001b[0;34m=\u001b[0m \u001b[0;36m3\u001b[0m\u001b[0;34m\u001b[0m\u001b[0;34m\u001b[0m\u001b[0m\n",
            "\u001b[0;31mNameError\u001b[0m: name 'config' is not defined"
          ]
        }
      ],
      "source": [
        "import torch\n",
        "from transformers import BertForMaskedLM, AdamW, get_linear_schedule_with_warmup\n",
        "from torch.cuda.amp import GradScaler\n",
        "\n",
        "# Initialize the BERT model with the same configuration\n",
        "model = BertForMaskedLM(config=config)\n",
        "\n",
        "num_epochs = 3\n",
        "learning_rate = 5e-5\n",
        "warmup_steps = 5\n",
        "\n",
        "# Optimizer and scheduler\n",
        "optimizer = torch.optim.AdamW(model.parameters(), lr=learning_rate)\n",
        "scheduler = get_linear_schedule_with_warmup(optimizer, num_warmup_steps=warmup_steps, num_training_steps=len(train_dataloader) * num_epochs)\n",
        "\n",
        "# Initialize mixed precision training\n",
        "scaler = GradScaler()\n",
        "\n",
        "# Training loop\n",
        "for epoch in range(num_epochs):\n",
        "    model.train()\n",
        "    total_loss = 0.0\n",
        "    for batch in train_dataloader:\n",
        "        inputs = batch[\"input_ids\"]\n",
        "        labels = batch[\"labels\"]\n",
        "\n",
        "        optimizer.zero_grad()\n",
        "\n",
        "        with torch.cuda.amp.autocast():  # Use torch.cuda.amp.autocast for mixed precision training\n",
        "            outputs = model(input_ids=torch.tensor(inputs), labels=torch.tensor(labels))\n",
        "            loss = outputs.loss\n",
        "\n",
        "        scaler.scale(loss).backward()\n",
        "        scaler.unscale_(optimizer)  # Unscales the gradients of optimizer's assigned params in-place\n",
        "        torch.nn.utils.clip_grad_norm_(model.parameters(), 1.0)  # Clip gradients to prevent explosion\n",
        "        scaler.step(optimizer)\n",
        "        scaler.update()\n",
        "\n",
        "        scheduler.step()\n",
        "\n",
        "        total_loss += loss.item()\n",
        "\n",
        "    avg_loss = total_loss / len(train_dataloader)\n",
        "    print(f\"Epoch {epoch+1}/{num_epochs}: Avg. Loss: {avg_loss:.4f}\")\n",
        "\n",
        "    # Validation\n",
        "    model.eval()\n",
        "    val_loss = 0.0\n",
        "    for batch in val_dataloader:\n",
        "        inputs = batch[\"input_ids\"]\n",
        "        labels = batch[\"labels\"]\n",
        "\n",
        "        with torch.no_grad():\n",
        "            outputs = model(input_ids=torch.tensor(inputs), labels=torch.tensor(labels))\n",
        "            val_loss += outputs.loss.item()\n",
        "\n",
        "    avg_val_loss = val_loss / len(val_dataloader)\n",
        "    print(f\"Avg. Validation Loss: {avg_val_loss:.4f}\")\n",
        "\n",
        "# Save trained model\n",
        "model.save_pretrained(\"bert_masked_lm_trained\")\n"
      ]
    },
    {
      "cell_type": "markdown",
      "metadata": {
        "id": "i-P1dCqZ7xhM"
      },
      "source": [
        "1. AdamW Optimizer: The code uses the AdamW optimizer to optimize the parameters of the BERT model. AdamW is a variant of the Adam optimizer that incorporates weight decay regularization to prevent overfitting.\n",
        "2. Learning Rate Scheduler with Warmup: The code utilizes the get_linear_schedule_with_warmup function to create a linear learning rate scheduler with warmup steps. This scheduler gradually increases the learning rate during the warmup phase and then linearly decreases it during the training phase.\n",
        "3. Mixed Precision Training: The code implements mixed precision training using PyTorch's autocast and GradScaler. Mixed precision training leverages hardware capabilities (such as Tensor Cores on GPUs) to speed up training and reduce memory usage by performing some operations in lower precision (e.g., half-precision floating-point format) while others remain in full precision."
      ]
    },
    {
      "cell_type": "markdown",
      "metadata": {
        "id": "1Aub_v6X7xhM"
      },
      "source": [
        "# Step 6: Evaluation on Test Set"
      ]
    },
    {
      "cell_type": "code",
      "execution_count": null,
      "metadata": {
        "id": "EbjQgtzf7xhM"
      },
      "outputs": [],
      "source": [
        "from sklearn.metrics import f1_score, accuracy_score\n",
        "import numpy as np\n",
        "\n",
        "# Evaluation Metrics\n",
        "def evaluate(model, dataloader):\n",
        "    model.eval()\n",
        "    all_predictions = []\n",
        "    all_labels = []\n",
        "\n",
        "    with torch.no_grad():\n",
        "        for batch in dataloader:\n",
        "            inputs = batch[\"input_ids\"]\n",
        "            labels = batch[\"labels\"]\n",
        "\n",
        "            outputs = model(input_ids=torch.tensor(inputs))\n",
        "            predictions = torch.argmax(outputs.logits, dim=-1)\n",
        "\n",
        "            all_predictions.extend(predictions.cpu().numpy())\n",
        "            all_labels.extend(labels.cpu().numpy())\n",
        "\n",
        "    # Calculate F1-score\n",
        "    f1 = f1_score(all_labels, all_predictions, average='micro')\n",
        "\n",
        "    return f1\n",
        "\n",
        "# Example Showcase\n",
        "def showcase_examples(model, tokenizer, dataloader, num_examples=5):\n",
        "    model.eval()\n",
        "    example_count = 0\n",
        "\n",
        "    with torch.no_grad():\n",
        "        for batch in dataloader:\n",
        "            inputs = batch[\"input_ids\"]\n",
        "            labels = batch[\"labels\"]\n",
        "            texts = batch[\"text\"]\n",
        "\n",
        "            outputs = model(input_ids=torch.tensor(inputs))\n",
        "            predictions = torch.argmax(outputs.logits, dim=-1)\n",
        "\n",
        "            for text, label, prediction in zip(texts, labels, predictions):\n",
        "                text = tokenizer.decode(text, skip_special_tokens=True)\n",
        "                label = tokenizer.decode(label, skip_special_tokens=True)\n",
        "                prediction = tokenizer.decode(prediction, skip_special_tokens=True)\n",
        "\n",
        "                print(f\"Text: {text}\")\n",
        "                print(f\"True Label: {label}\")\n",
        "                print(f\"Predicted Label: {prediction}\")\n",
        "                print()\n",
        "\n",
        "                example_count += 1\n",
        "                if example_count >= num_examples:\n",
        "                    return\n",
        "\n",
        "\n",
        "# Evaluate the trained model on the test set\n",
        "f1 = evaluate(model, test_dataloader)\n",
        "print(f\"F1-score: {f1:.4f}\")\n",
        "\n",
        "# Showcase examples from the test set\n",
        "showcase_examples(model, tokenizer, test_dataloader, num_examples=5)"
      ]
    },
    {
      "cell_type": "code",
      "execution_count": null,
      "metadata": {
        "id": "RgWdYCYi7xhM"
      },
      "outputs": [],
      "source": [
        "def analyze_examples(model, tokenizer, dataloader):\n",
        "    model.eval()\n",
        "    misclassified_examples = []\n",
        "\n",
        "    with torch.no_grad():\n",
        "        for batch in dataloader:\n",
        "            inputs = batch[\"input_ids\"]\n",
        "            labels = batch[\"labels\"]\n",
        "            texts = batch[\"text\"]\n",
        "\n",
        "            outputs = model(input_ids=torch.tensor(inputs))\n",
        "            predictions = torch.argmax(outputs.logits, dim=-1)\n",
        "\n",
        "            for text, label, prediction in zip(texts, labels, predictions):\n",
        "                text = tokenizer.decode(text, skip_special_tokens=True)\n",
        "                label = tokenizer.decode(label, skip_special_tokens=True)\n",
        "                prediction = tokenizer.decode(prediction, skip_special_tokens=True)\n",
        "\n",
        "                if label != prediction:\n",
        "                    misclassified_examples.append((text, label, prediction))\n",
        "\n",
        "    # Print misclassified examples\n",
        "    print(\"Misclassified Examples:\")\n",
        "    for idx, (text, label, prediction) in enumerate(misclassified_examples, start=1):\n",
        "        print(f\"Example {idx}:\")\n",
        "        print(f\"Text: {text}\")\n",
        "        print(f\"True Label: {label}\")\n",
        "        print(f\"Predicted Label: {prediction}\")\n",
        "        print()\n",
        "\n",
        "# Analyze examples to understand model performance, strengths, weaknesses, and potential areas for improvement\n",
        "analyze_examples(model, tokenizer, test_dataloader)\n"
      ]
    },
    {
      "cell_type": "markdown",
      "metadata": {
        "id": "PBNMXcEe7xhM"
      },
      "source": [
        "### Downstream Fine-Tuning:"
      ]
    },
    {
      "cell_type": "code",
      "execution_count": null,
      "metadata": {
        "id": "IdxbC75K7xhN"
      },
      "outputs": [],
      "source": [
        "import torch\n",
        "from transformers import BertForMaskedLM, BertTokenizer, Trainer, TrainingArguments\n",
        "from datasets import load_dataset\n",
        "\n",
        "# Load downstream task dataset (e.g., sentiment analysis)\n",
        "dataset = load_dataset(\"glue\", \"sst2\")\n",
        "\n",
        "# Define training arguments\n",
        "training_args = TrainingArguments(\n",
        "    per_device_train_batch_size=32,\n",
        "    num_train_epochs=3,\n",
        "    logging_dir='./logs',\n",
        "    logging_steps=500,\n",
        ")\n",
        "\n",
        "# Define data preprocessing function\n",
        "def preprocess_function(examples):\n",
        "    return tokenizer(examples[\"sentence\"], padding=\"max_length\", truncation=True)\n",
        "\n",
        "# Preprocess the dataset\n",
        "train_dataset = dataset[\"train\"].map(preprocess_function)\n",
        "eval_dataset = dataset[\"validation\"].map(preprocess_function)\n",
        "\n",
        "# Define Trainer\n",
        "trainer = Trainer(\n",
        "    model=model,\n",
        "    args=training_args,\n",
        "    train_dataset=train_dataset,\n",
        "    eval_dataset=eval_dataset,\n",
        ")\n",
        "\n",
        "# Fine-tune the model on the downstream task\n",
        "trainer.train()\n",
        "\n",
        "# Evaluate the fine-tuned model\n",
        "eval_results = trainer.evaluate()\n",
        "print(\"Evaluation Results:\", eval_results)\n"
      ]
    },
    {
      "cell_type": "markdown",
      "metadata": {
        "id": "VZAH8FIh7xhN"
      },
      "source": [
        "### Interpretability Exploration:"
      ]
    },
    {
      "cell_type": "code",
      "execution_count": null,
      "metadata": {
        "id": "rDCcN9dd7xhN"
      },
      "outputs": [],
      "source": [
        "import torch\n",
        "from transformers import BertTokenizer, BertForSequenceClassification\n",
        "from captum.attr import IntegratedGradients, visualization\n",
        "\n",
        "# Example text for interpretation\n",
        "text = \"This movie is really great and I enjoyed it a lot.\"\n",
        "\n",
        "# Tokenize the text\n",
        "inputs = tokenizer(text, return_tensors=\"pt\", padding=True, truncation=True)\n",
        "\n",
        "# Perform forward pass\n",
        "outputs = model(**inputs)\n",
        "probabilities = torch.softmax(outputs.logits, dim=-1)\n",
        "\n",
        "# Predicted label and probability\n",
        "predicted_label = torch.argmax(probabilities, dim=-1).item()\n",
        "predicted_probability = probabilities[0][predicted_label].item()\n",
        "print(f\"Predicted Label: {predicted_label}, Probability: {predicted_probability:.4f}\")\n",
        "\n",
        "# Integrated Gradients for interpretability\n",
        "integrated_gradients = IntegratedGradients(model)\n",
        "\n",
        "# Interpretation\n",
        "attributions = integrated_gradients.attribute(inputs.input_ids, target=predicted_label)\n",
        "\n",
        "# Visualization\n",
        "visualization.visualize_text(vis_data_records=[(attributions.sum(), text)],\n",
        "                             vis_type=\"heat_map\",\n",
        "                             overlay=\"text\",\n",
        "                             show=False).show()\n"
      ]
    }
  ],
  "metadata": {
    "colab": {
      "machine_shape": "hm",
      "provenance": []
    },
    "kaggle": {
      "accelerator": "none",
      "dataSources": [
        {
          "sourceId": 175669242,
          "sourceType": "kernelVersion"
        }
      ],
      "dockerImageVersionId": 30698,
      "isGpuEnabled": false,
      "isInternetEnabled": true,
      "language": "python",
      "sourceType": "notebook"
    },
    "kernelspec": {
      "display_name": "Python 3",
      "name": "python3"
    },
    "language_info": {
      "codemirror_mode": {
        "name": "ipython",
        "version": 3
      },
      "file_extension": ".py",
      "mimetype": "text/x-python",
      "name": "python",
      "nbconvert_exporter": "python",
      "pygments_lexer": "ipython3",
      "version": "3.10.13"
    },
    "widgets": {
      "application/vnd.jupyter.widget-state+json": {
        "0c59ccbc39b64188935667d4bfe6b039": {
          "model_module": "@jupyter-widgets/controls",
          "model_module_version": "1.5.0",
          "model_name": "FloatProgressModel",
          "state": {
            "_dom_classes": [],
            "_model_module": "@jupyter-widgets/controls",
            "_model_module_version": "1.5.0",
            "_model_name": "FloatProgressModel",
            "_view_count": null,
            "_view_module": "@jupyter-widgets/controls",
            "_view_module_version": "1.5.0",
            "_view_name": "ProgressView",
            "bar_style": "success",
            "description": "",
            "description_tooltip": null,
            "layout": "IPY_MODEL_4efc1ba8ea274ff1b142ecee124706d0",
            "max": 36699,
            "min": 0,
            "orientation": "horizontal",
            "style": "IPY_MODEL_a243bf6bced0403e943c3a3a000bf09d",
            "value": 36699
          }
        },
        "12a3c9f70c03433d9910c95e79aedfe9": {
          "model_module": "@jupyter-widgets/controls",
          "model_module_version": "1.5.0",
          "model_name": "HBoxModel",
          "state": {
            "_dom_classes": [],
            "_model_module": "@jupyter-widgets/controls",
            "_model_module_version": "1.5.0",
            "_model_name": "HBoxModel",
            "_view_count": null,
            "_view_module": "@jupyter-widgets/controls",
            "_view_module_version": "1.5.0",
            "_view_name": "HBoxView",
            "box_style": "",
            "children": [
              "IPY_MODEL_50828019e12f4d0895f0e50e1e7f6946",
              "IPY_MODEL_0c59ccbc39b64188935667d4bfe6b039",
              "IPY_MODEL_c594e30187404083b5bf49789bea0c18"
            ],
            "layout": "IPY_MODEL_93e365fc90ec43c5a050c42491e4e6cf"
          }
        },
        "23b54dce3191413680ca18754e523c01": {
          "model_module": "@jupyter-widgets/base",
          "model_module_version": "1.2.0",
          "model_name": "LayoutModel",
          "state": {
            "_model_module": "@jupyter-widgets/base",
            "_model_module_version": "1.2.0",
            "_model_name": "LayoutModel",
            "_view_count": null,
            "_view_module": "@jupyter-widgets/base",
            "_view_module_version": "1.2.0",
            "_view_name": "LayoutView",
            "align_content": null,
            "align_items": null,
            "align_self": null,
            "border": null,
            "bottom": null,
            "display": null,
            "flex": null,
            "flex_flow": null,
            "grid_area": null,
            "grid_auto_columns": null,
            "grid_auto_flow": null,
            "grid_auto_rows": null,
            "grid_column": null,
            "grid_gap": null,
            "grid_row": null,
            "grid_template_areas": null,
            "grid_template_columns": null,
            "grid_template_rows": null,
            "height": null,
            "justify_content": null,
            "justify_items": null,
            "left": null,
            "margin": null,
            "max_height": null,
            "max_width": null,
            "min_height": null,
            "min_width": null,
            "object_fit": null,
            "object_position": null,
            "order": null,
            "overflow": null,
            "overflow_x": null,
            "overflow_y": null,
            "padding": null,
            "right": null,
            "top": null,
            "visibility": null,
            "width": null
          }
        },
        "26e9ffd91ee84ca1b79862b25cc65838": {
          "model_module": "@jupyter-widgets/controls",
          "model_module_version": "1.5.0",
          "model_name": "HTMLModel",
          "state": {
            "_dom_classes": [],
            "_model_module": "@jupyter-widgets/controls",
            "_model_module_version": "1.5.0",
            "_model_name": "HTMLModel",
            "_view_count": null,
            "_view_module": "@jupyter-widgets/controls",
            "_view_module_version": "1.5.0",
            "_view_name": "HTMLView",
            "description": "",
            "description_tooltip": null,
            "layout": "IPY_MODEL_4c15a29c40a34c94b33479fd41c9f7bc",
            "placeholder": "​",
            "style": "IPY_MODEL_daf1154f84b1497cac56bdc9854d557f",
            "value": " 41/41 [00:00&lt;00:00, 305.96it/s]"
          }
        },
        "2f268d669b1d437aae8fe713f0e40219": {
          "model_module": "@jupyter-widgets/controls",
          "model_module_version": "1.5.0",
          "model_name": "ProgressStyleModel",
          "state": {
            "_model_module": "@jupyter-widgets/controls",
            "_model_module_version": "1.5.0",
            "_model_name": "ProgressStyleModel",
            "_view_count": null,
            "_view_module": "@jupyter-widgets/base",
            "_view_module_version": "1.2.0",
            "_view_name": "StyleView",
            "bar_color": null,
            "description_width": ""
          }
        },
        "3590cb5d13f94a8cacfdf58930c4c79e": {
          "model_module": "@jupyter-widgets/controls",
          "model_module_version": "1.5.0",
          "model_name": "HTMLModel",
          "state": {
            "_dom_classes": [],
            "_model_module": "@jupyter-widgets/controls",
            "_model_module_version": "1.5.0",
            "_model_name": "HTMLModel",
            "_view_count": null,
            "_view_module": "@jupyter-widgets/controls",
            "_view_module_version": "1.5.0",
            "_view_name": "HTMLView",
            "description": "",
            "description_tooltip": null,
            "layout": "IPY_MODEL_992272d3f47f488699049b5c1e187f94",
            "placeholder": "​",
            "style": "IPY_MODEL_8732a78c7e4a4eb79b107beb463f3486",
            "value": " 6458670/6458670 [02:19&lt;00:00, 96819.01 examples/s]"
          }
        },
        "398e79e13179494f8728334d2b47e52c": {
          "model_module": "@jupyter-widgets/base",
          "model_module_version": "1.2.0",
          "model_name": "LayoutModel",
          "state": {
            "_model_module": "@jupyter-widgets/base",
            "_model_module_version": "1.2.0",
            "_model_name": "LayoutModel",
            "_view_count": null,
            "_view_module": "@jupyter-widgets/base",
            "_view_module_version": "1.2.0",
            "_view_name": "LayoutView",
            "align_content": null,
            "align_items": null,
            "align_self": null,
            "border": null,
            "bottom": null,
            "display": null,
            "flex": null,
            "flex_flow": null,
            "grid_area": null,
            "grid_auto_columns": null,
            "grid_auto_flow": null,
            "grid_auto_rows": null,
            "grid_column": null,
            "grid_gap": null,
            "grid_row": null,
            "grid_template_areas": null,
            "grid_template_columns": null,
            "grid_template_rows": null,
            "height": null,
            "justify_content": null,
            "justify_items": null,
            "left": null,
            "margin": null,
            "max_height": null,
            "max_width": null,
            "min_height": null,
            "min_width": null,
            "object_fit": null,
            "object_position": null,
            "order": null,
            "overflow": null,
            "overflow_x": null,
            "overflow_y": null,
            "padding": null,
            "right": null,
            "top": null,
            "visibility": null,
            "width": null
          }
        },
        "3a00be47c8aa46f28bc05b8849ebfefc": {
          "model_module": "@jupyter-widgets/base",
          "model_module_version": "1.2.0",
          "model_name": "LayoutModel",
          "state": {
            "_model_module": "@jupyter-widgets/base",
            "_model_module_version": "1.2.0",
            "_model_name": "LayoutModel",
            "_view_count": null,
            "_view_module": "@jupyter-widgets/base",
            "_view_module_version": "1.2.0",
            "_view_name": "LayoutView",
            "align_content": null,
            "align_items": null,
            "align_self": null,
            "border": null,
            "bottom": null,
            "display": null,
            "flex": null,
            "flex_flow": null,
            "grid_area": null,
            "grid_auto_columns": null,
            "grid_auto_flow": null,
            "grid_auto_rows": null,
            "grid_column": null,
            "grid_gap": null,
            "grid_row": null,
            "grid_template_areas": null,
            "grid_template_columns": null,
            "grid_template_rows": null,
            "height": null,
            "justify_content": null,
            "justify_items": null,
            "left": null,
            "margin": null,
            "max_height": null,
            "max_width": null,
            "min_height": null,
            "min_width": null,
            "object_fit": null,
            "object_position": null,
            "order": null,
            "overflow": null,
            "overflow_x": null,
            "overflow_y": null,
            "padding": null,
            "right": null,
            "top": null,
            "visibility": null,
            "width": null
          }
        },
        "43ce5ddb07e3438eb4d5c79691b61774": {
          "model_module": "@jupyter-widgets/controls",
          "model_module_version": "1.5.0",
          "model_name": "HTMLModel",
          "state": {
            "_dom_classes": [],
            "_model_module": "@jupyter-widgets/controls",
            "_model_module_version": "1.5.0",
            "_model_name": "HTMLModel",
            "_view_count": null,
            "_view_module": "@jupyter-widgets/controls",
            "_view_module_version": "1.5.0",
            "_view_name": "HTMLView",
            "description": "",
            "description_tooltip": null,
            "layout": "IPY_MODEL_8b59e85f0a0b4edda82e32f8d8f32f00",
            "placeholder": "​",
            "style": "IPY_MODEL_f88471f2fd7a408a965f78fe60d11d06",
            "value": "Loading dataset shards: 100%"
          }
        },
        "4bc7b2993d4c43eaaf40dcb4bc89895f": {
          "model_module": "@jupyter-widgets/controls",
          "model_module_version": "1.5.0",
          "model_name": "ProgressStyleModel",
          "state": {
            "_model_module": "@jupyter-widgets/controls",
            "_model_module_version": "1.5.0",
            "_model_name": "ProgressStyleModel",
            "_view_count": null,
            "_view_module": "@jupyter-widgets/base",
            "_view_module_version": "1.2.0",
            "_view_name": "StyleView",
            "bar_color": null,
            "description_width": ""
          }
        },
        "4c15a29c40a34c94b33479fd41c9f7bc": {
          "model_module": "@jupyter-widgets/base",
          "model_module_version": "1.2.0",
          "model_name": "LayoutModel",
          "state": {
            "_model_module": "@jupyter-widgets/base",
            "_model_module_version": "1.2.0",
            "_model_name": "LayoutModel",
            "_view_count": null,
            "_view_module": "@jupyter-widgets/base",
            "_view_module_version": "1.2.0",
            "_view_name": "LayoutView",
            "align_content": null,
            "align_items": null,
            "align_self": null,
            "border": null,
            "bottom": null,
            "display": null,
            "flex": null,
            "flex_flow": null,
            "grid_area": null,
            "grid_auto_columns": null,
            "grid_auto_flow": null,
            "grid_auto_rows": null,
            "grid_column": null,
            "grid_gap": null,
            "grid_row": null,
            "grid_template_areas": null,
            "grid_template_columns": null,
            "grid_template_rows": null,
            "height": null,
            "justify_content": null,
            "justify_items": null,
            "left": null,
            "margin": null,
            "max_height": null,
            "max_width": null,
            "min_height": null,
            "min_width": null,
            "object_fit": null,
            "object_position": null,
            "order": null,
            "overflow": null,
            "overflow_x": null,
            "overflow_y": null,
            "padding": null,
            "right": null,
            "top": null,
            "visibility": null,
            "width": null
          }
        },
        "4c271a1d790f4510b262e60b044629a1": {
          "model_module": "@jupyter-widgets/base",
          "model_module_version": "1.2.0",
          "model_name": "LayoutModel",
          "state": {
            "_model_module": "@jupyter-widgets/base",
            "_model_module_version": "1.2.0",
            "_model_name": "LayoutModel",
            "_view_count": null,
            "_view_module": "@jupyter-widgets/base",
            "_view_module_version": "1.2.0",
            "_view_name": "LayoutView",
            "align_content": null,
            "align_items": null,
            "align_self": null,
            "border": null,
            "bottom": null,
            "display": null,
            "flex": null,
            "flex_flow": null,
            "grid_area": null,
            "grid_auto_columns": null,
            "grid_auto_flow": null,
            "grid_auto_rows": null,
            "grid_column": null,
            "grid_gap": null,
            "grid_row": null,
            "grid_template_areas": null,
            "grid_template_columns": null,
            "grid_template_rows": null,
            "height": null,
            "justify_content": null,
            "justify_items": null,
            "left": null,
            "margin": null,
            "max_height": null,
            "max_width": null,
            "min_height": null,
            "min_width": null,
            "object_fit": null,
            "object_position": null,
            "order": null,
            "overflow": null,
            "overflow_x": null,
            "overflow_y": null,
            "padding": null,
            "right": null,
            "top": null,
            "visibility": null,
            "width": null
          }
        },
        "4efc1ba8ea274ff1b142ecee124706d0": {
          "model_module": "@jupyter-widgets/base",
          "model_module_version": "1.2.0",
          "model_name": "LayoutModel",
          "state": {
            "_model_module": "@jupyter-widgets/base",
            "_model_module_version": "1.2.0",
            "_model_name": "LayoutModel",
            "_view_count": null,
            "_view_module": "@jupyter-widgets/base",
            "_view_module_version": "1.2.0",
            "_view_name": "LayoutView",
            "align_content": null,
            "align_items": null,
            "align_self": null,
            "border": null,
            "bottom": null,
            "display": null,
            "flex": null,
            "flex_flow": null,
            "grid_area": null,
            "grid_auto_columns": null,
            "grid_auto_flow": null,
            "grid_auto_rows": null,
            "grid_column": null,
            "grid_gap": null,
            "grid_row": null,
            "grid_template_areas": null,
            "grid_template_columns": null,
            "grid_template_rows": null,
            "height": null,
            "justify_content": null,
            "justify_items": null,
            "left": null,
            "margin": null,
            "max_height": null,
            "max_width": null,
            "min_height": null,
            "min_width": null,
            "object_fit": null,
            "object_position": null,
            "order": null,
            "overflow": null,
            "overflow_x": null,
            "overflow_y": null,
            "padding": null,
            "right": null,
            "top": null,
            "visibility": null,
            "width": null
          }
        },
        "50828019e12f4d0895f0e50e1e7f6946": {
          "model_module": "@jupyter-widgets/controls",
          "model_module_version": "1.5.0",
          "model_name": "HTMLModel",
          "state": {
            "_dom_classes": [],
            "_model_module": "@jupyter-widgets/controls",
            "_model_module_version": "1.5.0",
            "_model_name": "HTMLModel",
            "_view_count": null,
            "_view_module": "@jupyter-widgets/controls",
            "_view_module_version": "1.5.0",
            "_view_name": "HTMLView",
            "description": "",
            "description_tooltip": null,
            "layout": "IPY_MODEL_c0f025233e0e45549df746dd60fc5e44",
            "placeholder": "​",
            "style": "IPY_MODEL_72670b8b3e214b92ae6a399f5fb9e782",
            "value": "Downloading builder script: 100%"
          }
        },
        "55d2d1ffce05426abe954c329b0b45e9": {
          "model_module": "@jupyter-widgets/controls",
          "model_module_version": "1.5.0",
          "model_name": "FloatProgressModel",
          "state": {
            "_dom_classes": [],
            "_model_module": "@jupyter-widgets/controls",
            "_model_module_version": "1.5.0",
            "_model_name": "FloatProgressModel",
            "_view_count": null,
            "_view_module": "@jupyter-widgets/controls",
            "_view_module_version": "1.5.0",
            "_view_name": "ProgressView",
            "bar_style": "success",
            "description": "",
            "description_tooltip": null,
            "layout": "IPY_MODEL_c13287176dbb4816805a67b3994df3de",
            "max": 41,
            "min": 0,
            "orientation": "horizontal",
            "style": "IPY_MODEL_4bc7b2993d4c43eaaf40dcb4bc89895f",
            "value": 41
          }
        },
        "5608d1fa2fde4d309fe6153c651ffce4": {
          "model_module": "@jupyter-widgets/base",
          "model_module_version": "1.2.0",
          "model_name": "LayoutModel",
          "state": {
            "_model_module": "@jupyter-widgets/base",
            "_model_module_version": "1.2.0",
            "_model_name": "LayoutModel",
            "_view_count": null,
            "_view_module": "@jupyter-widgets/base",
            "_view_module_version": "1.2.0",
            "_view_name": "LayoutView",
            "align_content": null,
            "align_items": null,
            "align_self": null,
            "border": null,
            "bottom": null,
            "display": null,
            "flex": null,
            "flex_flow": null,
            "grid_area": null,
            "grid_auto_columns": null,
            "grid_auto_flow": null,
            "grid_auto_rows": null,
            "grid_column": null,
            "grid_gap": null,
            "grid_row": null,
            "grid_template_areas": null,
            "grid_template_columns": null,
            "grid_template_rows": null,
            "height": null,
            "justify_content": null,
            "justify_items": null,
            "left": null,
            "margin": null,
            "max_height": null,
            "max_width": null,
            "min_height": null,
            "min_width": null,
            "object_fit": null,
            "object_position": null,
            "order": null,
            "overflow": null,
            "overflow_x": null,
            "overflow_y": null,
            "padding": null,
            "right": null,
            "top": null,
            "visibility": null,
            "width": null
          }
        },
        "63e5653a19864d4f90ccf383bbfcc77f": {
          "model_module": "@jupyter-widgets/controls",
          "model_module_version": "1.5.0",
          "model_name": "FloatProgressModel",
          "state": {
            "_dom_classes": [],
            "_model_module": "@jupyter-widgets/controls",
            "_model_module_version": "1.5.0",
            "_model_name": "FloatProgressModel",
            "_view_count": null,
            "_view_module": "@jupyter-widgets/controls",
            "_view_module_version": "1.5.0",
            "_view_name": "ProgressView",
            "bar_style": "success",
            "description": "",
            "description_tooltip": null,
            "layout": "IPY_MODEL_d5d18fae36a84519a9415f1f9acf7fd2",
            "max": 41,
            "min": 0,
            "orientation": "horizontal",
            "style": "IPY_MODEL_2f268d669b1d437aae8fe713f0e40219",
            "value": 41
          }
        },
        "7179fdea13b14d9a9189f4d2c620eacb": {
          "model_module": "@jupyter-widgets/controls",
          "model_module_version": "1.5.0",
          "model_name": "HTMLModel",
          "state": {
            "_dom_classes": [],
            "_model_module": "@jupyter-widgets/controls",
            "_model_module_version": "1.5.0",
            "_model_name": "HTMLModel",
            "_view_count": null,
            "_view_module": "@jupyter-widgets/controls",
            "_view_module_version": "1.5.0",
            "_view_name": "HTMLView",
            "description": "",
            "description_tooltip": null,
            "layout": "IPY_MODEL_b5d001aa92784e39af1a178f0ca72b5e",
            "placeholder": "​",
            "style": "IPY_MODEL_b0ceaa9c2a0c4d92a3a7b5e1dbe2d126",
            "value": "Downloading readme: 100%"
          }
        },
        "72670b8b3e214b92ae6a399f5fb9e782": {
          "model_module": "@jupyter-widgets/controls",
          "model_module_version": "1.5.0",
          "model_name": "DescriptionStyleModel",
          "state": {
            "_model_module": "@jupyter-widgets/controls",
            "_model_module_version": "1.5.0",
            "_model_name": "DescriptionStyleModel",
            "_view_count": null,
            "_view_module": "@jupyter-widgets/base",
            "_view_module_version": "1.2.0",
            "_view_name": "StyleView",
            "description_width": ""
          }
        },
        "7c6a9e48afee43c78eb9c1ac70d007d2": {
          "model_module": "@jupyter-widgets/controls",
          "model_module_version": "1.5.0",
          "model_name": "FloatProgressModel",
          "state": {
            "_dom_classes": [],
            "_model_module": "@jupyter-widgets/controls",
            "_model_module_version": "1.5.0",
            "_model_name": "FloatProgressModel",
            "_view_count": null,
            "_view_module": "@jupyter-widgets/controls",
            "_view_module_version": "1.5.0",
            "_view_name": "ProgressView",
            "bar_style": "success",
            "description": "",
            "description_tooltip": null,
            "layout": "IPY_MODEL_a1254176fba74d6fb5adbf06f4d40a72",
            "max": 6458670,
            "min": 0,
            "orientation": "horizontal",
            "style": "IPY_MODEL_e485a30a3c7b49dc9086d5b787e15405",
            "value": 6458670
          }
        },
        "81719778a5794d7a8a92c7872550d3cf": {
          "model_module": "@jupyter-widgets/controls",
          "model_module_version": "1.5.0",
          "model_name": "DescriptionStyleModel",
          "state": {
            "_model_module": "@jupyter-widgets/controls",
            "_model_module_version": "1.5.0",
            "_model_name": "DescriptionStyleModel",
            "_view_count": null,
            "_view_module": "@jupyter-widgets/base",
            "_view_module_version": "1.2.0",
            "_view_name": "StyleView",
            "description_width": ""
          }
        },
        "8732a78c7e4a4eb79b107beb463f3486": {
          "model_module": "@jupyter-widgets/controls",
          "model_module_version": "1.5.0",
          "model_name": "DescriptionStyleModel",
          "state": {
            "_model_module": "@jupyter-widgets/controls",
            "_model_module_version": "1.5.0",
            "_model_name": "DescriptionStyleModel",
            "_view_count": null,
            "_view_module": "@jupyter-widgets/base",
            "_view_module_version": "1.2.0",
            "_view_name": "StyleView",
            "description_width": ""
          }
        },
        "8aa4b40f4ca04a96bed93eab465ff5d9": {
          "model_module": "@jupyter-widgets/controls",
          "model_module_version": "1.5.0",
          "model_name": "HBoxModel",
          "state": {
            "_dom_classes": [],
            "_model_module": "@jupyter-widgets/controls",
            "_model_module_version": "1.5.0",
            "_model_name": "HBoxModel",
            "_view_count": null,
            "_view_module": "@jupyter-widgets/controls",
            "_view_module_version": "1.5.0",
            "_view_name": "HBoxView",
            "box_style": "",
            "children": [
              "IPY_MODEL_abab72c75e2749ee8c9762b6cd501b03",
              "IPY_MODEL_7c6a9e48afee43c78eb9c1ac70d007d2",
              "IPY_MODEL_3590cb5d13f94a8cacfdf58930c4c79e"
            ],
            "layout": "IPY_MODEL_5608d1fa2fde4d309fe6153c651ffce4"
          }
        },
        "8b59e85f0a0b4edda82e32f8d8f32f00": {
          "model_module": "@jupyter-widgets/base",
          "model_module_version": "1.2.0",
          "model_name": "LayoutModel",
          "state": {
            "_model_module": "@jupyter-widgets/base",
            "_model_module_version": "1.2.0",
            "_model_name": "LayoutModel",
            "_view_count": null,
            "_view_module": "@jupyter-widgets/base",
            "_view_module_version": "1.2.0",
            "_view_name": "LayoutView",
            "align_content": null,
            "align_items": null,
            "align_self": null,
            "border": null,
            "bottom": null,
            "display": null,
            "flex": null,
            "flex_flow": null,
            "grid_area": null,
            "grid_auto_columns": null,
            "grid_auto_flow": null,
            "grid_auto_rows": null,
            "grid_column": null,
            "grid_gap": null,
            "grid_row": null,
            "grid_template_areas": null,
            "grid_template_columns": null,
            "grid_template_rows": null,
            "height": null,
            "justify_content": null,
            "justify_items": null,
            "left": null,
            "margin": null,
            "max_height": null,
            "max_width": null,
            "min_height": null,
            "min_width": null,
            "object_fit": null,
            "object_position": null,
            "order": null,
            "overflow": null,
            "overflow_x": null,
            "overflow_y": null,
            "padding": null,
            "right": null,
            "top": null,
            "visibility": null,
            "width": null
          }
        },
        "93e365fc90ec43c5a050c42491e4e6cf": {
          "model_module": "@jupyter-widgets/base",
          "model_module_version": "1.2.0",
          "model_name": "LayoutModel",
          "state": {
            "_model_module": "@jupyter-widgets/base",
            "_model_module_version": "1.2.0",
            "_model_name": "LayoutModel",
            "_view_count": null,
            "_view_module": "@jupyter-widgets/base",
            "_view_module_version": "1.2.0",
            "_view_name": "LayoutView",
            "align_content": null,
            "align_items": null,
            "align_self": null,
            "border": null,
            "bottom": null,
            "display": null,
            "flex": null,
            "flex_flow": null,
            "grid_area": null,
            "grid_auto_columns": null,
            "grid_auto_flow": null,
            "grid_auto_rows": null,
            "grid_column": null,
            "grid_gap": null,
            "grid_row": null,
            "grid_template_areas": null,
            "grid_template_columns": null,
            "grid_template_rows": null,
            "height": null,
            "justify_content": null,
            "justify_items": null,
            "left": null,
            "margin": null,
            "max_height": null,
            "max_width": null,
            "min_height": null,
            "min_width": null,
            "object_fit": null,
            "object_position": null,
            "order": null,
            "overflow": null,
            "overflow_x": null,
            "overflow_y": null,
            "padding": null,
            "right": null,
            "top": null,
            "visibility": null,
            "width": null
          }
        },
        "992272d3f47f488699049b5c1e187f94": {
          "model_module": "@jupyter-widgets/base",
          "model_module_version": "1.2.0",
          "model_name": "LayoutModel",
          "state": {
            "_model_module": "@jupyter-widgets/base",
            "_model_module_version": "1.2.0",
            "_model_name": "LayoutModel",
            "_view_count": null,
            "_view_module": "@jupyter-widgets/base",
            "_view_module_version": "1.2.0",
            "_view_name": "LayoutView",
            "align_content": null,
            "align_items": null,
            "align_self": null,
            "border": null,
            "bottom": null,
            "display": null,
            "flex": null,
            "flex_flow": null,
            "grid_area": null,
            "grid_auto_columns": null,
            "grid_auto_flow": null,
            "grid_auto_rows": null,
            "grid_column": null,
            "grid_gap": null,
            "grid_row": null,
            "grid_template_areas": null,
            "grid_template_columns": null,
            "grid_template_rows": null,
            "height": null,
            "justify_content": null,
            "justify_items": null,
            "left": null,
            "margin": null,
            "max_height": null,
            "max_width": null,
            "min_height": null,
            "min_width": null,
            "object_fit": null,
            "object_position": null,
            "order": null,
            "overflow": null,
            "overflow_x": null,
            "overflow_y": null,
            "padding": null,
            "right": null,
            "top": null,
            "visibility": null,
            "width": null
          }
        },
        "9bf98d2973bd4ce8b19e6d32fb284d9c": {
          "model_module": "@jupyter-widgets/base",
          "model_module_version": "1.2.0",
          "model_name": "LayoutModel",
          "state": {
            "_model_module": "@jupyter-widgets/base",
            "_model_module_version": "1.2.0",
            "_model_name": "LayoutModel",
            "_view_count": null,
            "_view_module": "@jupyter-widgets/base",
            "_view_module_version": "1.2.0",
            "_view_name": "LayoutView",
            "align_content": null,
            "align_items": null,
            "align_self": null,
            "border": null,
            "bottom": null,
            "display": null,
            "flex": null,
            "flex_flow": null,
            "grid_area": null,
            "grid_auto_columns": null,
            "grid_auto_flow": null,
            "grid_auto_rows": null,
            "grid_column": null,
            "grid_gap": null,
            "grid_row": null,
            "grid_template_areas": null,
            "grid_template_columns": null,
            "grid_template_rows": null,
            "height": null,
            "justify_content": null,
            "justify_items": null,
            "left": null,
            "margin": null,
            "max_height": null,
            "max_width": null,
            "min_height": null,
            "min_width": null,
            "object_fit": null,
            "object_position": null,
            "order": null,
            "overflow": null,
            "overflow_x": null,
            "overflow_y": null,
            "padding": null,
            "right": null,
            "top": null,
            "visibility": null,
            "width": null
          }
        },
        "a1254176fba74d6fb5adbf06f4d40a72": {
          "model_module": "@jupyter-widgets/base",
          "model_module_version": "1.2.0",
          "model_name": "LayoutModel",
          "state": {
            "_model_module": "@jupyter-widgets/base",
            "_model_module_version": "1.2.0",
            "_model_name": "LayoutModel",
            "_view_count": null,
            "_view_module": "@jupyter-widgets/base",
            "_view_module_version": "1.2.0",
            "_view_name": "LayoutView",
            "align_content": null,
            "align_items": null,
            "align_self": null,
            "border": null,
            "bottom": null,
            "display": null,
            "flex": null,
            "flex_flow": null,
            "grid_area": null,
            "grid_auto_columns": null,
            "grid_auto_flow": null,
            "grid_auto_rows": null,
            "grid_column": null,
            "grid_gap": null,
            "grid_row": null,
            "grid_template_areas": null,
            "grid_template_columns": null,
            "grid_template_rows": null,
            "height": null,
            "justify_content": null,
            "justify_items": null,
            "left": null,
            "margin": null,
            "max_height": null,
            "max_width": null,
            "min_height": null,
            "min_width": null,
            "object_fit": null,
            "object_position": null,
            "order": null,
            "overflow": null,
            "overflow_x": null,
            "overflow_y": null,
            "padding": null,
            "right": null,
            "top": null,
            "visibility": null,
            "width": null
          }
        },
        "a243bf6bced0403e943c3a3a000bf09d": {
          "model_module": "@jupyter-widgets/controls",
          "model_module_version": "1.5.0",
          "model_name": "ProgressStyleModel",
          "state": {
            "_model_module": "@jupyter-widgets/controls",
            "_model_module_version": "1.5.0",
            "_model_name": "ProgressStyleModel",
            "_view_count": null,
            "_view_module": "@jupyter-widgets/base",
            "_view_module_version": "1.2.0",
            "_view_name": "StyleView",
            "bar_color": null,
            "description_width": ""
          }
        },
        "aabdb6f0ff464068ba93a04b9028d7a0": {
          "model_module": "@jupyter-widgets/controls",
          "model_module_version": "1.5.0",
          "model_name": "FloatProgressModel",
          "state": {
            "_dom_classes": [],
            "_model_module": "@jupyter-widgets/controls",
            "_model_module_version": "1.5.0",
            "_model_name": "FloatProgressModel",
            "_view_count": null,
            "_view_module": "@jupyter-widgets/controls",
            "_view_module_version": "1.5.0",
            "_view_name": "ProgressView",
            "bar_style": "success",
            "description": "",
            "description_tooltip": null,
            "layout": "IPY_MODEL_f781b719d6d646b89be238045fbda73b",
            "max": 16046,
            "min": 0,
            "orientation": "horizontal",
            "style": "IPY_MODEL_ac9e0e431fa94a82b33750f621619d0a",
            "value": 16046
          }
        },
        "abab72c75e2749ee8c9762b6cd501b03": {
          "model_module": "@jupyter-widgets/controls",
          "model_module_version": "1.5.0",
          "model_name": "HTMLModel",
          "state": {
            "_dom_classes": [],
            "_model_module": "@jupyter-widgets/controls",
            "_model_module_version": "1.5.0",
            "_model_name": "HTMLModel",
            "_view_count": null,
            "_view_module": "@jupyter-widgets/controls",
            "_view_module_version": "1.5.0",
            "_view_name": "HTMLView",
            "description": "",
            "description_tooltip": null,
            "layout": "IPY_MODEL_9bf98d2973bd4ce8b19e6d32fb284d9c",
            "placeholder": "​",
            "style": "IPY_MODEL_afc362fdd61244c3b1d01e9609cec3dc",
            "value": "Generating train split: 100%"
          }
        },
        "ac9e0e431fa94a82b33750f621619d0a": {
          "model_module": "@jupyter-widgets/controls",
          "model_module_version": "1.5.0",
          "model_name": "ProgressStyleModel",
          "state": {
            "_model_module": "@jupyter-widgets/controls",
            "_model_module_version": "1.5.0",
            "_model_name": "ProgressStyleModel",
            "_view_count": null,
            "_view_module": "@jupyter-widgets/base",
            "_view_module_version": "1.2.0",
            "_view_name": "StyleView",
            "bar_color": null,
            "description_width": ""
          }
        },
        "ad40581ba64843d7a03d1e9b6ac8635d": {
          "model_module": "@jupyter-widgets/controls",
          "model_module_version": "1.5.0",
          "model_name": "HTMLModel",
          "state": {
            "_dom_classes": [],
            "_model_module": "@jupyter-widgets/controls",
            "_model_module_version": "1.5.0",
            "_model_name": "HTMLModel",
            "_view_count": null,
            "_view_module": "@jupyter-widgets/controls",
            "_view_module_version": "1.5.0",
            "_view_name": "HTMLView",
            "description": "",
            "description_tooltip": null,
            "layout": "IPY_MODEL_4c271a1d790f4510b262e60b044629a1",
            "placeholder": "​",
            "style": "IPY_MODEL_81719778a5794d7a8a92c7872550d3cf",
            "value": " 16.0k/16.0k [00:00&lt;00:00, 930kB/s]"
          }
        },
        "adc42f0dfe094e99a197689405dbfc97": {
          "model_module": "@jupyter-widgets/base",
          "model_module_version": "1.2.0",
          "model_name": "LayoutModel",
          "state": {
            "_model_module": "@jupyter-widgets/base",
            "_model_module_version": "1.2.0",
            "_model_name": "LayoutModel",
            "_view_count": null,
            "_view_module": "@jupyter-widgets/base",
            "_view_module_version": "1.2.0",
            "_view_name": "LayoutView",
            "align_content": null,
            "align_items": null,
            "align_self": null,
            "border": null,
            "bottom": null,
            "display": null,
            "flex": null,
            "flex_flow": null,
            "grid_area": null,
            "grid_auto_columns": null,
            "grid_auto_flow": null,
            "grid_auto_rows": null,
            "grid_column": null,
            "grid_gap": null,
            "grid_row": null,
            "grid_template_areas": null,
            "grid_template_columns": null,
            "grid_template_rows": null,
            "height": null,
            "justify_content": null,
            "justify_items": null,
            "left": null,
            "margin": null,
            "max_height": null,
            "max_width": null,
            "min_height": null,
            "min_width": null,
            "object_fit": null,
            "object_position": null,
            "order": null,
            "overflow": null,
            "overflow_x": null,
            "overflow_y": null,
            "padding": null,
            "right": null,
            "top": null,
            "visibility": null,
            "width": null
          }
        },
        "afc362fdd61244c3b1d01e9609cec3dc": {
          "model_module": "@jupyter-widgets/controls",
          "model_module_version": "1.5.0",
          "model_name": "DescriptionStyleModel",
          "state": {
            "_model_module": "@jupyter-widgets/controls",
            "_model_module_version": "1.5.0",
            "_model_name": "DescriptionStyleModel",
            "_view_count": null,
            "_view_module": "@jupyter-widgets/base",
            "_view_module_version": "1.2.0",
            "_view_name": "StyleView",
            "description_width": ""
          }
        },
        "b0ceaa9c2a0c4d92a3a7b5e1dbe2d126": {
          "model_module": "@jupyter-widgets/controls",
          "model_module_version": "1.5.0",
          "model_name": "DescriptionStyleModel",
          "state": {
            "_model_module": "@jupyter-widgets/controls",
            "_model_module_version": "1.5.0",
            "_model_name": "DescriptionStyleModel",
            "_view_count": null,
            "_view_module": "@jupyter-widgets/base",
            "_view_module_version": "1.2.0",
            "_view_name": "StyleView",
            "description_width": ""
          }
        },
        "b5d001aa92784e39af1a178f0ca72b5e": {
          "model_module": "@jupyter-widgets/base",
          "model_module_version": "1.2.0",
          "model_name": "LayoutModel",
          "state": {
            "_model_module": "@jupyter-widgets/base",
            "_model_module_version": "1.2.0",
            "_model_name": "LayoutModel",
            "_view_count": null,
            "_view_module": "@jupyter-widgets/base",
            "_view_module_version": "1.2.0",
            "_view_name": "LayoutView",
            "align_content": null,
            "align_items": null,
            "align_self": null,
            "border": null,
            "bottom": null,
            "display": null,
            "flex": null,
            "flex_flow": null,
            "grid_area": null,
            "grid_auto_columns": null,
            "grid_auto_flow": null,
            "grid_auto_rows": null,
            "grid_column": null,
            "grid_gap": null,
            "grid_row": null,
            "grid_template_areas": null,
            "grid_template_columns": null,
            "grid_template_rows": null,
            "height": null,
            "justify_content": null,
            "justify_items": null,
            "left": null,
            "margin": null,
            "max_height": null,
            "max_width": null,
            "min_height": null,
            "min_width": null,
            "object_fit": null,
            "object_position": null,
            "order": null,
            "overflow": null,
            "overflow_x": null,
            "overflow_y": null,
            "padding": null,
            "right": null,
            "top": null,
            "visibility": null,
            "width": null
          }
        },
        "bbba91c7cf554b749d3d86fe08c5b49f": {
          "model_module": "@jupyter-widgets/controls",
          "model_module_version": "1.5.0",
          "model_name": "HTMLModel",
          "state": {
            "_dom_classes": [],
            "_model_module": "@jupyter-widgets/controls",
            "_model_module_version": "1.5.0",
            "_model_name": "HTMLModel",
            "_view_count": null,
            "_view_module": "@jupyter-widgets/controls",
            "_view_module_version": "1.5.0",
            "_view_name": "HTMLView",
            "description": "",
            "description_tooltip": null,
            "layout": "IPY_MODEL_adc42f0dfe094e99a197689405dbfc97",
            "placeholder": "​",
            "style": "IPY_MODEL_ff0583d27ce747bd832be04e591baf4f",
            "value": "Downloading data: 100%"
          }
        },
        "bc14992b9c3f4904be7b4d0d9bbc3711": {
          "model_module": "@jupyter-widgets/controls",
          "model_module_version": "1.5.0",
          "model_name": "HBoxModel",
          "state": {
            "_dom_classes": [],
            "_model_module": "@jupyter-widgets/controls",
            "_model_module_version": "1.5.0",
            "_model_name": "HBoxModel",
            "_view_count": null,
            "_view_module": "@jupyter-widgets/controls",
            "_view_module_version": "1.5.0",
            "_view_name": "HBoxView",
            "box_style": "",
            "children": [
              "IPY_MODEL_7179fdea13b14d9a9189f4d2c620eacb",
              "IPY_MODEL_aabdb6f0ff464068ba93a04b9028d7a0",
              "IPY_MODEL_ad40581ba64843d7a03d1e9b6ac8635d"
            ],
            "layout": "IPY_MODEL_23b54dce3191413680ca18754e523c01"
          }
        },
        "c0f025233e0e45549df746dd60fc5e44": {
          "model_module": "@jupyter-widgets/base",
          "model_module_version": "1.2.0",
          "model_name": "LayoutModel",
          "state": {
            "_model_module": "@jupyter-widgets/base",
            "_model_module_version": "1.2.0",
            "_model_name": "LayoutModel",
            "_view_count": null,
            "_view_module": "@jupyter-widgets/base",
            "_view_module_version": "1.2.0",
            "_view_name": "LayoutView",
            "align_content": null,
            "align_items": null,
            "align_self": null,
            "border": null,
            "bottom": null,
            "display": null,
            "flex": null,
            "flex_flow": null,
            "grid_area": null,
            "grid_auto_columns": null,
            "grid_auto_flow": null,
            "grid_auto_rows": null,
            "grid_column": null,
            "grid_gap": null,
            "grid_row": null,
            "grid_template_areas": null,
            "grid_template_columns": null,
            "grid_template_rows": null,
            "height": null,
            "justify_content": null,
            "justify_items": null,
            "left": null,
            "margin": null,
            "max_height": null,
            "max_width": null,
            "min_height": null,
            "min_width": null,
            "object_fit": null,
            "object_position": null,
            "order": null,
            "overflow": null,
            "overflow_x": null,
            "overflow_y": null,
            "padding": null,
            "right": null,
            "top": null,
            "visibility": null,
            "width": null
          }
        },
        "c13287176dbb4816805a67b3994df3de": {
          "model_module": "@jupyter-widgets/base",
          "model_module_version": "1.2.0",
          "model_name": "LayoutModel",
          "state": {
            "_model_module": "@jupyter-widgets/base",
            "_model_module_version": "1.2.0",
            "_model_name": "LayoutModel",
            "_view_count": null,
            "_view_module": "@jupyter-widgets/base",
            "_view_module_version": "1.2.0",
            "_view_name": "LayoutView",
            "align_content": null,
            "align_items": null,
            "align_self": null,
            "border": null,
            "bottom": null,
            "display": null,
            "flex": null,
            "flex_flow": null,
            "grid_area": null,
            "grid_auto_columns": null,
            "grid_auto_flow": null,
            "grid_auto_rows": null,
            "grid_column": null,
            "grid_gap": null,
            "grid_row": null,
            "grid_template_areas": null,
            "grid_template_columns": null,
            "grid_template_rows": null,
            "height": null,
            "justify_content": null,
            "justify_items": null,
            "left": null,
            "margin": null,
            "max_height": null,
            "max_width": null,
            "min_height": null,
            "min_width": null,
            "object_fit": null,
            "object_position": null,
            "order": null,
            "overflow": null,
            "overflow_x": null,
            "overflow_y": null,
            "padding": null,
            "right": null,
            "top": null,
            "visibility": null,
            "width": null
          }
        },
        "c594e30187404083b5bf49789bea0c18": {
          "model_module": "@jupyter-widgets/controls",
          "model_module_version": "1.5.0",
          "model_name": "HTMLModel",
          "state": {
            "_dom_classes": [],
            "_model_module": "@jupyter-widgets/controls",
            "_model_module_version": "1.5.0",
            "_model_name": "HTMLModel",
            "_view_count": null,
            "_view_module": "@jupyter-widgets/controls",
            "_view_module_version": "1.5.0",
            "_view_name": "HTMLView",
            "description": "",
            "description_tooltip": null,
            "layout": "IPY_MODEL_ecc2a0baa1214851bec4282dcd7e4ed3",
            "placeholder": "​",
            "style": "IPY_MODEL_e5a9cae6420443e1a08a3dfd29d7ce9a",
            "value": " 36.7k/36.7k [00:00&lt;00:00, 2.21MB/s]"
          }
        },
        "d4fccf7f55fe45fb829f6beab38f1f9c": {
          "model_module": "@jupyter-widgets/controls",
          "model_module_version": "1.5.0",
          "model_name": "HTMLModel",
          "state": {
            "_dom_classes": [],
            "_model_module": "@jupyter-widgets/controls",
            "_model_module_version": "1.5.0",
            "_model_name": "HTMLModel",
            "_view_count": null,
            "_view_module": "@jupyter-widgets/controls",
            "_view_module_version": "1.5.0",
            "_view_name": "HTMLView",
            "description": "",
            "description_tooltip": null,
            "layout": "IPY_MODEL_398e79e13179494f8728334d2b47e52c",
            "placeholder": "​",
            "style": "IPY_MODEL_dd1a58e8658544909d8151859f7c8e64",
            "value": " 41/41 [05:29&lt;00:00, 329.24s/files]"
          }
        },
        "d5d18fae36a84519a9415f1f9acf7fd2": {
          "model_module": "@jupyter-widgets/base",
          "model_module_version": "1.2.0",
          "model_name": "LayoutModel",
          "state": {
            "_model_module": "@jupyter-widgets/base",
            "_model_module_version": "1.2.0",
            "_model_name": "LayoutModel",
            "_view_count": null,
            "_view_module": "@jupyter-widgets/base",
            "_view_module_version": "1.2.0",
            "_view_name": "LayoutView",
            "align_content": null,
            "align_items": null,
            "align_self": null,
            "border": null,
            "bottom": null,
            "display": null,
            "flex": null,
            "flex_flow": null,
            "grid_area": null,
            "grid_auto_columns": null,
            "grid_auto_flow": null,
            "grid_auto_rows": null,
            "grid_column": null,
            "grid_gap": null,
            "grid_row": null,
            "grid_template_areas": null,
            "grid_template_columns": null,
            "grid_template_rows": null,
            "height": null,
            "justify_content": null,
            "justify_items": null,
            "left": null,
            "margin": null,
            "max_height": null,
            "max_width": null,
            "min_height": null,
            "min_width": null,
            "object_fit": null,
            "object_position": null,
            "order": null,
            "overflow": null,
            "overflow_x": null,
            "overflow_y": null,
            "padding": null,
            "right": null,
            "top": null,
            "visibility": null,
            "width": null
          }
        },
        "daf1154f84b1497cac56bdc9854d557f": {
          "model_module": "@jupyter-widgets/controls",
          "model_module_version": "1.5.0",
          "model_name": "DescriptionStyleModel",
          "state": {
            "_model_module": "@jupyter-widgets/controls",
            "_model_module_version": "1.5.0",
            "_model_name": "DescriptionStyleModel",
            "_view_count": null,
            "_view_module": "@jupyter-widgets/base",
            "_view_module_version": "1.2.0",
            "_view_name": "StyleView",
            "description_width": ""
          }
        },
        "dd1a58e8658544909d8151859f7c8e64": {
          "model_module": "@jupyter-widgets/controls",
          "model_module_version": "1.5.0",
          "model_name": "DescriptionStyleModel",
          "state": {
            "_model_module": "@jupyter-widgets/controls",
            "_model_module_version": "1.5.0",
            "_model_name": "DescriptionStyleModel",
            "_view_count": null,
            "_view_module": "@jupyter-widgets/base",
            "_view_module_version": "1.2.0",
            "_view_name": "StyleView",
            "description_width": ""
          }
        },
        "e3298c5f61484e78a09adeedf87f08cb": {
          "model_module": "@jupyter-widgets/controls",
          "model_module_version": "1.5.0",
          "model_name": "HBoxModel",
          "state": {
            "_dom_classes": [],
            "_model_module": "@jupyter-widgets/controls",
            "_model_module_version": "1.5.0",
            "_model_name": "HBoxModel",
            "_view_count": null,
            "_view_module": "@jupyter-widgets/controls",
            "_view_module_version": "1.5.0",
            "_view_name": "HBoxView",
            "box_style": "",
            "children": [
              "IPY_MODEL_bbba91c7cf554b749d3d86fe08c5b49f",
              "IPY_MODEL_55d2d1ffce05426abe954c329b0b45e9",
              "IPY_MODEL_d4fccf7f55fe45fb829f6beab38f1f9c"
            ],
            "layout": "IPY_MODEL_f1a4913e9650449ab2a9b173476c466e"
          }
        },
        "e485a30a3c7b49dc9086d5b787e15405": {
          "model_module": "@jupyter-widgets/controls",
          "model_module_version": "1.5.0",
          "model_name": "ProgressStyleModel",
          "state": {
            "_model_module": "@jupyter-widgets/controls",
            "_model_module_version": "1.5.0",
            "_model_name": "ProgressStyleModel",
            "_view_count": null,
            "_view_module": "@jupyter-widgets/base",
            "_view_module_version": "1.2.0",
            "_view_name": "StyleView",
            "bar_color": null,
            "description_width": ""
          }
        },
        "e5a9cae6420443e1a08a3dfd29d7ce9a": {
          "model_module": "@jupyter-widgets/controls",
          "model_module_version": "1.5.0",
          "model_name": "DescriptionStyleModel",
          "state": {
            "_model_module": "@jupyter-widgets/controls",
            "_model_module_version": "1.5.0",
            "_model_name": "DescriptionStyleModel",
            "_view_count": null,
            "_view_module": "@jupyter-widgets/base",
            "_view_module_version": "1.2.0",
            "_view_name": "StyleView",
            "description_width": ""
          }
        },
        "ecc2a0baa1214851bec4282dcd7e4ed3": {
          "model_module": "@jupyter-widgets/base",
          "model_module_version": "1.2.0",
          "model_name": "LayoutModel",
          "state": {
            "_model_module": "@jupyter-widgets/base",
            "_model_module_version": "1.2.0",
            "_model_name": "LayoutModel",
            "_view_count": null,
            "_view_module": "@jupyter-widgets/base",
            "_view_module_version": "1.2.0",
            "_view_name": "LayoutView",
            "align_content": null,
            "align_items": null,
            "align_self": null,
            "border": null,
            "bottom": null,
            "display": null,
            "flex": null,
            "flex_flow": null,
            "grid_area": null,
            "grid_auto_columns": null,
            "grid_auto_flow": null,
            "grid_auto_rows": null,
            "grid_column": null,
            "grid_gap": null,
            "grid_row": null,
            "grid_template_areas": null,
            "grid_template_columns": null,
            "grid_template_rows": null,
            "height": null,
            "justify_content": null,
            "justify_items": null,
            "left": null,
            "margin": null,
            "max_height": null,
            "max_width": null,
            "min_height": null,
            "min_width": null,
            "object_fit": null,
            "object_position": null,
            "order": null,
            "overflow": null,
            "overflow_x": null,
            "overflow_y": null,
            "padding": null,
            "right": null,
            "top": null,
            "visibility": null,
            "width": null
          }
        },
        "f1a4913e9650449ab2a9b173476c466e": {
          "model_module": "@jupyter-widgets/base",
          "model_module_version": "1.2.0",
          "model_name": "LayoutModel",
          "state": {
            "_model_module": "@jupyter-widgets/base",
            "_model_module_version": "1.2.0",
            "_model_name": "LayoutModel",
            "_view_count": null,
            "_view_module": "@jupyter-widgets/base",
            "_view_module_version": "1.2.0",
            "_view_name": "LayoutView",
            "align_content": null,
            "align_items": null,
            "align_self": null,
            "border": null,
            "bottom": null,
            "display": null,
            "flex": null,
            "flex_flow": null,
            "grid_area": null,
            "grid_auto_columns": null,
            "grid_auto_flow": null,
            "grid_auto_rows": null,
            "grid_column": null,
            "grid_gap": null,
            "grid_row": null,
            "grid_template_areas": null,
            "grid_template_columns": null,
            "grid_template_rows": null,
            "height": null,
            "justify_content": null,
            "justify_items": null,
            "left": null,
            "margin": null,
            "max_height": null,
            "max_width": null,
            "min_height": null,
            "min_width": null,
            "object_fit": null,
            "object_position": null,
            "order": null,
            "overflow": null,
            "overflow_x": null,
            "overflow_y": null,
            "padding": null,
            "right": null,
            "top": null,
            "visibility": null,
            "width": null
          }
        },
        "f781b719d6d646b89be238045fbda73b": {
          "model_module": "@jupyter-widgets/base",
          "model_module_version": "1.2.0",
          "model_name": "LayoutModel",
          "state": {
            "_model_module": "@jupyter-widgets/base",
            "_model_module_version": "1.2.0",
            "_model_name": "LayoutModel",
            "_view_count": null,
            "_view_module": "@jupyter-widgets/base",
            "_view_module_version": "1.2.0",
            "_view_name": "LayoutView",
            "align_content": null,
            "align_items": null,
            "align_self": null,
            "border": null,
            "bottom": null,
            "display": null,
            "flex": null,
            "flex_flow": null,
            "grid_area": null,
            "grid_auto_columns": null,
            "grid_auto_flow": null,
            "grid_auto_rows": null,
            "grid_column": null,
            "grid_gap": null,
            "grid_row": null,
            "grid_template_areas": null,
            "grid_template_columns": null,
            "grid_template_rows": null,
            "height": null,
            "justify_content": null,
            "justify_items": null,
            "left": null,
            "margin": null,
            "max_height": null,
            "max_width": null,
            "min_height": null,
            "min_width": null,
            "object_fit": null,
            "object_position": null,
            "order": null,
            "overflow": null,
            "overflow_x": null,
            "overflow_y": null,
            "padding": null,
            "right": null,
            "top": null,
            "visibility": null,
            "width": null
          }
        },
        "f88471f2fd7a408a965f78fe60d11d06": {
          "model_module": "@jupyter-widgets/controls",
          "model_module_version": "1.5.0",
          "model_name": "DescriptionStyleModel",
          "state": {
            "_model_module": "@jupyter-widgets/controls",
            "_model_module_version": "1.5.0",
            "_model_name": "DescriptionStyleModel",
            "_view_count": null,
            "_view_module": "@jupyter-widgets/base",
            "_view_module_version": "1.2.0",
            "_view_name": "StyleView",
            "description_width": ""
          }
        },
        "fa9955a19b9d41638c314f4be91ed04b": {
          "model_module": "@jupyter-widgets/controls",
          "model_module_version": "1.5.0",
          "model_name": "HBoxModel",
          "state": {
            "_dom_classes": [],
            "_model_module": "@jupyter-widgets/controls",
            "_model_module_version": "1.5.0",
            "_model_name": "HBoxModel",
            "_view_count": null,
            "_view_module": "@jupyter-widgets/controls",
            "_view_module_version": "1.5.0",
            "_view_name": "HBoxView",
            "box_style": "",
            "children": [
              "IPY_MODEL_43ce5ddb07e3438eb4d5c79691b61774",
              "IPY_MODEL_63e5653a19864d4f90ccf383bbfcc77f",
              "IPY_MODEL_26e9ffd91ee84ca1b79862b25cc65838"
            ],
            "layout": "IPY_MODEL_3a00be47c8aa46f28bc05b8849ebfefc"
          }
        },
        "ff0583d27ce747bd832be04e591baf4f": {
          "model_module": "@jupyter-widgets/controls",
          "model_module_version": "1.5.0",
          "model_name": "DescriptionStyleModel",
          "state": {
            "_model_module": "@jupyter-widgets/controls",
            "_model_module_version": "1.5.0",
            "_model_name": "DescriptionStyleModel",
            "_view_count": null,
            "_view_module": "@jupyter-widgets/base",
            "_view_module_version": "1.2.0",
            "_view_name": "StyleView",
            "description_width": ""
          }
        }
      }
    }
  },
  "nbformat": 4,
  "nbformat_minor": 0
}
